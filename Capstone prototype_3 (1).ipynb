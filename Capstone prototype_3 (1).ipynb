{
 "cells": [
  {
   "cell_type": "code",
   "execution_count": 1,
   "metadata": {},
   "outputs": [],
   "source": [
    "#Loading packages\n",
    "%matplotlib inline \n",
    "import csv\n",
    "import pandas as pd\n",
    "import matplotlib.pyplot as plt\n",
    "import numpy as np\n",
    "from sklearn.metrics import mean_squared_error, r2_score \n",
    "import datetime as dt\n",
    "from scipy import stats as sts\n",
    "from sklearn.neighbors import KNeighborsClassifier\n",
    "from sklearn.model_selection import train_test_split\n",
    "from datetime import datetime as dt\n",
    "import math\n",
    "import seaborn as sns\n"
   ]
  },
  {
   "cell_type": "code",
   "execution_count": 65,
   "metadata": {},
   "outputs": [
    {
     "data": {
      "text/html": [
       "<div>\n",
       "<style scoped>\n",
       "    .dataframe tbody tr th:only-of-type {\n",
       "        vertical-align: middle;\n",
       "    }\n",
       "\n",
       "    .dataframe tbody tr th {\n",
       "        vertical-align: top;\n",
       "    }\n",
       "\n",
       "    .dataframe thead th {\n",
       "        text-align: right;\n",
       "    }\n",
       "</style>\n",
       "<table border=\"1\" class=\"dataframe\">\n",
       "  <thead>\n",
       "    <tr style=\"text-align: right;\">\n",
       "      <th></th>\n",
       "      <th>4040 : hsa-miR-9-5p</th>\n",
       "      <th>4610 : hsa-miR-126-3p</th>\n",
       "      <th>4700 : hsa-miR-140-5p</th>\n",
       "      <th>5250 : hsa-miR-105-5p</th>\n",
       "      <th>6880 : hsa-miR-297</th>\n",
       "      <th>9938 : hsa-let-7i-5p</th>\n",
       "      <th>10138 : hsa-miR-130a-3p</th>\n",
       "      <th>10306 : hsa-miR-146b-5p</th>\n",
       "      <th>10901 : hsa_negative_control_6</th>\n",
       "      <th>10902 : hsa_negative_control_7</th>\n",
       "      <th>...</th>\n",
       "      <th>169411 : hsa-miR-205-3p</th>\n",
       "      <th>169412 : hsa-miR-1260a</th>\n",
       "      <th>169414 : hsa-miR-525-5p</th>\n",
       "      <th>169415 : hsa-miR-187-5p</th>\n",
       "      <th>169416 : hsa-miRPlus-A1086</th>\n",
       "      <th>169417 : hsa-miR-551b-5p</th>\n",
       "      <th>169419 : hsa-miR-300</th>\n",
       "      <th>169420 : hsa-miR-193b-5p</th>\n",
       "      <th>target</th>\n",
       "      <th>target_actual</th>\n",
       "    </tr>\n",
       "  </thead>\n",
       "  <tbody>\n",
       "    <tr>\n",
       "      <th>0</th>\n",
       "      <td>6.877643</td>\n",
       "      <td>8.080215</td>\n",
       "      <td>6.245265</td>\n",
       "      <td>6.304782</td>\n",
       "      <td>6.686064</td>\n",
       "      <td>7.805950</td>\n",
       "      <td>6.814781</td>\n",
       "      <td>7.146955</td>\n",
       "      <td>6.170680</td>\n",
       "      <td>6.129586</td>\n",
       "      <td>...</td>\n",
       "      <td>7.176684</td>\n",
       "      <td>7.724408</td>\n",
       "      <td>6.035476</td>\n",
       "      <td>6.255048</td>\n",
       "      <td>6.572019</td>\n",
       "      <td>6.251777</td>\n",
       "      <td>5.873303</td>\n",
       "      <td>6.362097</td>\n",
       "      <td>1</td>\n",
       "      <td>primary breast cancer</td>\n",
       "    </tr>\n",
       "    <tr>\n",
       "      <th>1</th>\n",
       "      <td>6.544287</td>\n",
       "      <td>6.882722</td>\n",
       "      <td>5.874236</td>\n",
       "      <td>6.324987</td>\n",
       "      <td>6.638048</td>\n",
       "      <td>6.946567</td>\n",
       "      <td>6.488574</td>\n",
       "      <td>6.690773</td>\n",
       "      <td>6.160272</td>\n",
       "      <td>6.104929</td>\n",
       "      <td>...</td>\n",
       "      <td>7.249094</td>\n",
       "      <td>7.308890</td>\n",
       "      <td>6.021796</td>\n",
       "      <td>6.902473</td>\n",
       "      <td>6.347183</td>\n",
       "      <td>6.625569</td>\n",
       "      <td>6.004899</td>\n",
       "      <td>6.560329</td>\n",
       "      <td>1</td>\n",
       "      <td>primary breast cancer</td>\n",
       "    </tr>\n",
       "    <tr>\n",
       "      <th>2</th>\n",
       "      <td>6.879713</td>\n",
       "      <td>6.885387</td>\n",
       "      <td>5.958748</td>\n",
       "      <td>6.317687</td>\n",
       "      <td>6.664956</td>\n",
       "      <td>7.266728</td>\n",
       "      <td>6.965078</td>\n",
       "      <td>6.969818</td>\n",
       "      <td>6.226957</td>\n",
       "      <td>6.124874</td>\n",
       "      <td>...</td>\n",
       "      <td>7.404104</td>\n",
       "      <td>7.466418</td>\n",
       "      <td>5.977962</td>\n",
       "      <td>6.484571</td>\n",
       "      <td>6.259788</td>\n",
       "      <td>6.226957</td>\n",
       "      <td>5.815442</td>\n",
       "      <td>6.354622</td>\n",
       "      <td>1</td>\n",
       "      <td>primary breast cancer</td>\n",
       "    </tr>\n",
       "    <tr>\n",
       "      <th>3</th>\n",
       "      <td>6.943464</td>\n",
       "      <td>7.972342</td>\n",
       "      <td>6.026106</td>\n",
       "      <td>6.425266</td>\n",
       "      <td>6.761433</td>\n",
       "      <td>8.010618</td>\n",
       "      <td>6.441945</td>\n",
       "      <td>6.679714</td>\n",
       "      <td>6.471518</td>\n",
       "      <td>6.264685</td>\n",
       "      <td>...</td>\n",
       "      <td>6.811846</td>\n",
       "      <td>8.601204</td>\n",
       "      <td>6.021790</td>\n",
       "      <td>5.912640</td>\n",
       "      <td>6.002302</td>\n",
       "      <td>5.999349</td>\n",
       "      <td>5.811117</td>\n",
       "      <td>6.306704</td>\n",
       "      <td>1</td>\n",
       "      <td>primary breast cancer</td>\n",
       "    </tr>\n",
       "    <tr>\n",
       "      <th>4</th>\n",
       "      <td>7.097877</td>\n",
       "      <td>9.014977</td>\n",
       "      <td>7.127656</td>\n",
       "      <td>6.566482</td>\n",
       "      <td>6.990273</td>\n",
       "      <td>8.746360</td>\n",
       "      <td>8.087122</td>\n",
       "      <td>7.680249</td>\n",
       "      <td>6.499892</td>\n",
       "      <td>6.226560</td>\n",
       "      <td>...</td>\n",
       "      <td>6.361862</td>\n",
       "      <td>7.570751</td>\n",
       "      <td>5.967819</td>\n",
       "      <td>5.821186</td>\n",
       "      <td>6.550078</td>\n",
       "      <td>5.947994</td>\n",
       "      <td>5.828413</td>\n",
       "      <td>6.288596</td>\n",
       "      <td>1</td>\n",
       "      <td>primary breast cancer</td>\n",
       "    </tr>\n",
       "  </tbody>\n",
       "</table>\n",
       "<p>5 rows × 1928 columns</p>\n",
       "</div>"
      ],
      "text/plain": [
       "   4040 : hsa-miR-9-5p  4610 : hsa-miR-126-3p  4700 : hsa-miR-140-5p  \\\n",
       "0             6.877643               8.080215               6.245265   \n",
       "1             6.544287               6.882722               5.874236   \n",
       "2             6.879713               6.885387               5.958748   \n",
       "3             6.943464               7.972342               6.026106   \n",
       "4             7.097877               9.014977               7.127656   \n",
       "\n",
       "   5250 : hsa-miR-105-5p  6880 : hsa-miR-297  9938 : hsa-let-7i-5p  \\\n",
       "0               6.304782            6.686064              7.805950   \n",
       "1               6.324987            6.638048              6.946567   \n",
       "2               6.317687            6.664956              7.266728   \n",
       "3               6.425266            6.761433              8.010618   \n",
       "4               6.566482            6.990273              8.746360   \n",
       "\n",
       "   10138 : hsa-miR-130a-3p  10306 : hsa-miR-146b-5p  \\\n",
       "0                 6.814781                 7.146955   \n",
       "1                 6.488574                 6.690773   \n",
       "2                 6.965078                 6.969818   \n",
       "3                 6.441945                 6.679714   \n",
       "4                 8.087122                 7.680249   \n",
       "\n",
       "   10901 : hsa_negative_control_6  10902 : hsa_negative_control_7  ...  \\\n",
       "0                        6.170680                        6.129586  ...   \n",
       "1                        6.160272                        6.104929  ...   \n",
       "2                        6.226957                        6.124874  ...   \n",
       "3                        6.471518                        6.264685  ...   \n",
       "4                        6.499892                        6.226560  ...   \n",
       "\n",
       "   169411 : hsa-miR-205-3p  169412 : hsa-miR-1260a  169414 : hsa-miR-525-5p  \\\n",
       "0                 7.176684                7.724408                 6.035476   \n",
       "1                 7.249094                7.308890                 6.021796   \n",
       "2                 7.404104                7.466418                 5.977962   \n",
       "3                 6.811846                8.601204                 6.021790   \n",
       "4                 6.361862                7.570751                 5.967819   \n",
       "\n",
       "   169415 : hsa-miR-187-5p  169416 : hsa-miRPlus-A1086  \\\n",
       "0                 6.255048                    6.572019   \n",
       "1                 6.902473                    6.347183   \n",
       "2                 6.484571                    6.259788   \n",
       "3                 5.912640                    6.002302   \n",
       "4                 5.821186                    6.550078   \n",
       "\n",
       "   169417 : hsa-miR-551b-5p  169419 : hsa-miR-300  169420 : hsa-miR-193b-5p  \\\n",
       "0                  6.251777              5.873303                  6.362097   \n",
       "1                  6.625569              6.004899                  6.560329   \n",
       "2                  6.226957              5.815442                  6.354622   \n",
       "3                  5.999349              5.811117                  6.306704   \n",
       "4                  5.947994              5.828413                  6.288596   \n",
       "\n",
       "   target          target_actual  \n",
       "0       1  primary breast cancer  \n",
       "1       1  primary breast cancer  \n",
       "2       1  primary breast cancer  \n",
       "3       1  primary breast cancer  \n",
       "4       1  primary breast cancer  \n",
       "\n",
       "[5 rows x 1928 columns]"
      ]
     },
     "execution_count": 65,
     "metadata": {},
     "output_type": "execute_result"
    }
   ],
   "source": [
    "GSE=pd.read_csv(\"GSE58606_data.csv\")\n",
    "GSE.head(5)"
   ]
  },
  {
   "cell_type": "code",
   "execution_count": 2,
   "metadata": {},
   "outputs": [],
   "source": [
    "#loading accepted da\n",
    "data=pd.read_csv(\"https://docs.google.com/spreadsheets/d/e/2PACX-1vSLMCETGXVHEisEi-Gk0aEgghySGaK-c127tgfCOc-hzjetTp__XSjZxaU_eMsV0RziuLVXZ6ebLYwy/pub?output=csv\",low_memory=False,index_col=0)"
   ]
  },
  {
   "cell_type": "code",
   "execution_count": 3,
   "metadata": {},
   "outputs": [
    {
     "data": {
      "text/html": [
       "<div>\n",
       "<style scoped>\n",
       "    .dataframe tbody tr th:only-of-type {\n",
       "        vertical-align: middle;\n",
       "    }\n",
       "\n",
       "    .dataframe tbody tr th {\n",
       "        vertical-align: top;\n",
       "    }\n",
       "\n",
       "    .dataframe thead th {\n",
       "        text-align: right;\n",
       "    }\n",
       "</style>\n",
       "<table border=\"1\" class=\"dataframe\">\n",
       "  <thead>\n",
       "    <tr style=\"text-align: right;\">\n",
       "      <th></th>\n",
       "      <th>Age</th>\n",
       "      <th>BMI</th>\n",
       "      <th>Glucose</th>\n",
       "      <th>Insulin</th>\n",
       "      <th>HOMA</th>\n",
       "      <th>Leptin</th>\n",
       "      <th>Adiponectin</th>\n",
       "      <th>Resistin</th>\n",
       "      <th>MCP.1</th>\n",
       "      <th>Classification</th>\n",
       "    </tr>\n",
       "  </thead>\n",
       "  <tbody>\n",
       "    <tr>\n",
       "      <th>37</th>\n",
       "      <td>69</td>\n",
       "      <td>35.092702</td>\n",
       "      <td>101</td>\n",
       "      <td>5.646</td>\n",
       "      <td>1.406607</td>\n",
       "      <td>83.4821</td>\n",
       "      <td>6.796985</td>\n",
       "      <td>82.1000</td>\n",
       "      <td>263.499</td>\n",
       "      <td>1</td>\n",
       "    </tr>\n",
       "    <tr>\n",
       "      <th>107</th>\n",
       "      <td>46</td>\n",
       "      <td>33.180000</td>\n",
       "      <td>92</td>\n",
       "      <td>5.750</td>\n",
       "      <td>1.304867</td>\n",
       "      <td>18.6900</td>\n",
       "      <td>9.160000</td>\n",
       "      <td>8.8900</td>\n",
       "      <td>209.190</td>\n",
       "      <td>2</td>\n",
       "    </tr>\n",
       "    <tr>\n",
       "      <th>12</th>\n",
       "      <td>25</td>\n",
       "      <td>22.860000</td>\n",
       "      <td>82</td>\n",
       "      <td>4.090</td>\n",
       "      <td>0.827271</td>\n",
       "      <td>20.4500</td>\n",
       "      <td>23.670000</td>\n",
       "      <td>5.1400</td>\n",
       "      <td>313.730</td>\n",
       "      <td>1</td>\n",
       "    </tr>\n",
       "    <tr>\n",
       "      <th>72</th>\n",
       "      <td>51</td>\n",
       "      <td>18.370000</td>\n",
       "      <td>105</td>\n",
       "      <td>6.030</td>\n",
       "      <td>1.561770</td>\n",
       "      <td>9.6200</td>\n",
       "      <td>12.760000</td>\n",
       "      <td>3.2100</td>\n",
       "      <td>513.660</td>\n",
       "      <td>2</td>\n",
       "    </tr>\n",
       "    <tr>\n",
       "      <th>9</th>\n",
       "      <td>75</td>\n",
       "      <td>23.000000</td>\n",
       "      <td>83</td>\n",
       "      <td>4.952</td>\n",
       "      <td>1.013839</td>\n",
       "      <td>17.1270</td>\n",
       "      <td>11.578990</td>\n",
       "      <td>7.0913</td>\n",
       "      <td>318.302</td>\n",
       "      <td>1</td>\n",
       "    </tr>\n",
       "  </tbody>\n",
       "</table>\n",
       "</div>"
      ],
      "text/plain": [
       "     Age        BMI  Glucose  Insulin      HOMA   Leptin  Adiponectin  \\\n",
       "37    69  35.092702      101    5.646  1.406607  83.4821     6.796985   \n",
       "107   46  33.180000       92    5.750  1.304867  18.6900     9.160000   \n",
       "12    25  22.860000       82    4.090  0.827271  20.4500    23.670000   \n",
       "72    51  18.370000      105    6.030  1.561770   9.6200    12.760000   \n",
       "9     75  23.000000       83    4.952  1.013839  17.1270    11.578990   \n",
       "\n",
       "     Resistin    MCP.1  Classification  \n",
       "37    82.1000  263.499               1  \n",
       "107    8.8900  209.190               2  \n",
       "12     5.1400  313.730               1  \n",
       "72     3.2100  513.660               2  \n",
       "9      7.0913  318.302               1  "
      ]
     },
     "execution_count": 3,
     "metadata": {},
     "output_type": "execute_result"
    }
   ],
   "source": [
    "#checking first few columns of accpted Malignant\n",
    "data.head(5).head(5)"
   ]
  },
  {
   "cell_type": "code",
   "execution_count": 4,
   "metadata": {},
   "outputs": [
    {
     "data": {
      "text/html": [
       "<div>\n",
       "<style scoped>\n",
       "    .dataframe tbody tr th:only-of-type {\n",
       "        vertical-align: middle;\n",
       "    }\n",
       "\n",
       "    .dataframe tbody tr th {\n",
       "        vertical-align: top;\n",
       "    }\n",
       "\n",
       "    .dataframe thead th {\n",
       "        text-align: right;\n",
       "    }\n",
       "</style>\n",
       "<table border=\"1\" class=\"dataframe\">\n",
       "  <thead>\n",
       "    <tr style=\"text-align: right;\">\n",
       "      <th></th>\n",
       "      <th>Age</th>\n",
       "      <th>BMI</th>\n",
       "      <th>Glucose</th>\n",
       "      <th>Insulin</th>\n",
       "      <th>HOMA</th>\n",
       "      <th>Leptin</th>\n",
       "      <th>Adiponectin</th>\n",
       "      <th>Resistin</th>\n",
       "      <th>MCP.1</th>\n",
       "      <th>Classification</th>\n",
       "    </tr>\n",
       "  </thead>\n",
       "  <tbody>\n",
       "    <tr>\n",
       "      <th>count</th>\n",
       "      <td>5000.000000</td>\n",
       "      <td>5000.000000</td>\n",
       "      <td>5000.000000</td>\n",
       "      <td>5000.000000</td>\n",
       "      <td>5000.000000</td>\n",
       "      <td>5000.00000</td>\n",
       "      <td>5000.000000</td>\n",
       "      <td>5000.000000</td>\n",
       "      <td>5000.000000</td>\n",
       "      <td>5000.000000</td>\n",
       "    </tr>\n",
       "    <tr>\n",
       "      <th>mean</th>\n",
       "      <td>57.269000</td>\n",
       "      <td>27.675695</td>\n",
       "      <td>98.230000</td>\n",
       "      <td>10.253753</td>\n",
       "      <td>2.799148</td>\n",
       "      <td>27.23392</td>\n",
       "      <td>10.146165</td>\n",
       "      <td>15.219034</td>\n",
       "      <td>536.596902</td>\n",
       "      <td>1.552000</td>\n",
       "    </tr>\n",
       "    <tr>\n",
       "      <th>std</th>\n",
       "      <td>15.999407</td>\n",
       "      <td>4.976360</td>\n",
       "      <td>23.216539</td>\n",
       "      <td>10.346829</td>\n",
       "      <td>3.854780</td>\n",
       "      <td>19.67296</td>\n",
       "      <td>6.741812</td>\n",
       "      <td>13.009221</td>\n",
       "      <td>345.756215</td>\n",
       "      <td>0.497338</td>\n",
       "    </tr>\n",
       "    <tr>\n",
       "      <th>min</th>\n",
       "      <td>24.000000</td>\n",
       "      <td>18.370000</td>\n",
       "      <td>60.000000</td>\n",
       "      <td>2.432000</td>\n",
       "      <td>0.467409</td>\n",
       "      <td>4.31100</td>\n",
       "      <td>1.656020</td>\n",
       "      <td>3.210000</td>\n",
       "      <td>45.843000</td>\n",
       "      <td>1.000000</td>\n",
       "    </tr>\n",
       "    <tr>\n",
       "      <th>25%</th>\n",
       "      <td>45.000000</td>\n",
       "      <td>23.010000</td>\n",
       "      <td>86.000000</td>\n",
       "      <td>4.376000</td>\n",
       "      <td>0.960273</td>\n",
       "      <td>12.33100</td>\n",
       "      <td>5.478170</td>\n",
       "      <td>6.892350</td>\n",
       "      <td>270.142000</td>\n",
       "      <td>1.000000</td>\n",
       "    </tr>\n",
       "    <tr>\n",
       "      <th>50%</th>\n",
       "      <td>55.000000</td>\n",
       "      <td>27.688778</td>\n",
       "      <td>93.000000</td>\n",
       "      <td>6.042000</td>\n",
       "      <td>1.402626</td>\n",
       "      <td>21.21170</td>\n",
       "      <td>8.300955</td>\n",
       "      <td>10.960000</td>\n",
       "      <td>468.786000</td>\n",
       "      <td>2.000000</td>\n",
       "    </tr>\n",
       "    <tr>\n",
       "      <th>75%</th>\n",
       "      <td>71.000000</td>\n",
       "      <td>31.250000</td>\n",
       "      <td>102.000000</td>\n",
       "      <td>11.910000</td>\n",
       "      <td>2.871792</td>\n",
       "      <td>38.80660</td>\n",
       "      <td>11.900000</td>\n",
       "      <td>19.463240</td>\n",
       "      <td>703.973000</td>\n",
       "      <td>2.000000</td>\n",
       "    </tr>\n",
       "    <tr>\n",
       "      <th>max</th>\n",
       "      <td>89.000000</td>\n",
       "      <td>38.578759</td>\n",
       "      <td>201.000000</td>\n",
       "      <td>58.460000</td>\n",
       "      <td>25.050342</td>\n",
       "      <td>90.28000</td>\n",
       "      <td>38.040000</td>\n",
       "      <td>82.100000</td>\n",
       "      <td>1698.440000</td>\n",
       "      <td>2.000000</td>\n",
       "    </tr>\n",
       "  </tbody>\n",
       "</table>\n",
       "</div>"
      ],
      "text/plain": [
       "               Age          BMI      Glucose      Insulin         HOMA  \\\n",
       "count  5000.000000  5000.000000  5000.000000  5000.000000  5000.000000   \n",
       "mean     57.269000    27.675695    98.230000    10.253753     2.799148   \n",
       "std      15.999407     4.976360    23.216539    10.346829     3.854780   \n",
       "min      24.000000    18.370000    60.000000     2.432000     0.467409   \n",
       "25%      45.000000    23.010000    86.000000     4.376000     0.960273   \n",
       "50%      55.000000    27.688778    93.000000     6.042000     1.402626   \n",
       "75%      71.000000    31.250000   102.000000    11.910000     2.871792   \n",
       "max      89.000000    38.578759   201.000000    58.460000    25.050342   \n",
       "\n",
       "           Leptin  Adiponectin     Resistin        MCP.1  Classification  \n",
       "count  5000.00000  5000.000000  5000.000000  5000.000000     5000.000000  \n",
       "mean     27.23392    10.146165    15.219034   536.596902        1.552000  \n",
       "std      19.67296     6.741812    13.009221   345.756215        0.497338  \n",
       "min       4.31100     1.656020     3.210000    45.843000        1.000000  \n",
       "25%      12.33100     5.478170     6.892350   270.142000        1.000000  \n",
       "50%      21.21170     8.300955    10.960000   468.786000        2.000000  \n",
       "75%      38.80660    11.900000    19.463240   703.973000        2.000000  \n",
       "max      90.28000    38.040000    82.100000  1698.440000        2.000000  "
      ]
     },
     "execution_count": 4,
     "metadata": {},
     "output_type": "execute_result"
    }
   ],
   "source": [
    "data.describe()"
   ]
  },
  {
   "cell_type": "code",
   "execution_count": 5,
   "metadata": {},
   "outputs": [
    {
     "name": "stdout",
     "output_type": "stream",
     "text": [
      "<class 'pandas.core.frame.DataFrame'>\n",
      "Int64Index: 5000 entries, 37 to 19\n",
      "Data columns (total 10 columns):\n",
      "Age               5000 non-null int64\n",
      "BMI               5000 non-null float64\n",
      "Glucose           5000 non-null int64\n",
      "Insulin           5000 non-null float64\n",
      "HOMA              5000 non-null float64\n",
      "Leptin            5000 non-null float64\n",
      "Adiponectin       5000 non-null float64\n",
      "Resistin          5000 non-null float64\n",
      "MCP.1             5000 non-null float64\n",
      "Classification    5000 non-null int64\n",
      "dtypes: float64(7), int64(3)\n",
      "memory usage: 429.7 KB\n"
     ]
    },
    {
     "data": {
      "text/plain": [
       "None"
      ]
     },
     "metadata": {},
     "output_type": "display_data"
    },
    {
     "name": "stdout",
     "output_type": "stream",
     "text": [
      "<class 'pandas.core.frame.DataFrame'>\n",
      "Int64Index: 5000 entries, 37 to 19\n",
      "Data columns (total 10 columns):\n",
      "Age               5000 non-null int64\n",
      "BMI               5000 non-null float64\n",
      "Glucose           5000 non-null int64\n",
      "Insulin           5000 non-null float64\n",
      "HOMA              5000 non-null float64\n",
      "Leptin            5000 non-null float64\n",
      "Adiponectin       5000 non-null float64\n",
      "Resistin          5000 non-null float64\n",
      "MCP.1             5000 non-null float64\n",
      "Classification    5000 non-null int64\n",
      "dtypes: float64(7), int64(3)\n",
      "memory usage: 429.7 KB\n"
     ]
    },
    {
     "data": {
      "text/plain": [
       "None"
      ]
     },
     "metadata": {},
     "output_type": "display_data"
    }
   ],
   "source": [
    "#checking column names\n",
    "from IPython.display import display_html\n",
    "display(data.info())\n",
    "display(data.info())"
   ]
  },
  {
   "cell_type": "code",
   "execution_count": 6,
   "metadata": {},
   "outputs": [
    {
     "data": {
      "text/html": [
       "<div>\n",
       "<style scoped>\n",
       "    .dataframe tbody tr th:only-of-type {\n",
       "        vertical-align: middle;\n",
       "    }\n",
       "\n",
       "    .dataframe tbody tr th {\n",
       "        vertical-align: top;\n",
       "    }\n",
       "\n",
       "    .dataframe thead th {\n",
       "        text-align: right;\n",
       "    }\n",
       "</style>\n",
       "<table border=\"1\" class=\"dataframe\">\n",
       "  <thead>\n",
       "    <tr style=\"text-align: right;\">\n",
       "      <th></th>\n",
       "      <th>Age</th>\n",
       "      <th>BMI</th>\n",
       "      <th>Glucose</th>\n",
       "      <th>Insulin</th>\n",
       "      <th>HOMA</th>\n",
       "      <th>Leptin</th>\n",
       "      <th>Adiponectin</th>\n",
       "      <th>Resistin</th>\n",
       "      <th>MCP.1</th>\n",
       "      <th>Classification</th>\n",
       "    </tr>\n",
       "  </thead>\n",
       "  <tbody>\n",
       "    <tr>\n",
       "      <th>37</th>\n",
       "      <td>False</td>\n",
       "      <td>False</td>\n",
       "      <td>False</td>\n",
       "      <td>False</td>\n",
       "      <td>False</td>\n",
       "      <td>False</td>\n",
       "      <td>False</td>\n",
       "      <td>False</td>\n",
       "      <td>False</td>\n",
       "      <td>False</td>\n",
       "    </tr>\n",
       "    <tr>\n",
       "      <th>107</th>\n",
       "      <td>False</td>\n",
       "      <td>False</td>\n",
       "      <td>False</td>\n",
       "      <td>False</td>\n",
       "      <td>False</td>\n",
       "      <td>False</td>\n",
       "      <td>False</td>\n",
       "      <td>False</td>\n",
       "      <td>False</td>\n",
       "      <td>False</td>\n",
       "    </tr>\n",
       "    <tr>\n",
       "      <th>12</th>\n",
       "      <td>False</td>\n",
       "      <td>False</td>\n",
       "      <td>False</td>\n",
       "      <td>False</td>\n",
       "      <td>False</td>\n",
       "      <td>False</td>\n",
       "      <td>False</td>\n",
       "      <td>False</td>\n",
       "      <td>False</td>\n",
       "      <td>False</td>\n",
       "    </tr>\n",
       "    <tr>\n",
       "      <th>72</th>\n",
       "      <td>False</td>\n",
       "      <td>False</td>\n",
       "      <td>False</td>\n",
       "      <td>False</td>\n",
       "      <td>False</td>\n",
       "      <td>False</td>\n",
       "      <td>False</td>\n",
       "      <td>False</td>\n",
       "      <td>False</td>\n",
       "      <td>False</td>\n",
       "    </tr>\n",
       "    <tr>\n",
       "      <th>9</th>\n",
       "      <td>False</td>\n",
       "      <td>False</td>\n",
       "      <td>False</td>\n",
       "      <td>False</td>\n",
       "      <td>False</td>\n",
       "      <td>False</td>\n",
       "      <td>False</td>\n",
       "      <td>False</td>\n",
       "      <td>False</td>\n",
       "      <td>False</td>\n",
       "    </tr>\n",
       "    <tr>\n",
       "      <th>...</th>\n",
       "      <td>...</td>\n",
       "      <td>...</td>\n",
       "      <td>...</td>\n",
       "      <td>...</td>\n",
       "      <td>...</td>\n",
       "      <td>...</td>\n",
       "      <td>...</td>\n",
       "      <td>...</td>\n",
       "      <td>...</td>\n",
       "      <td>...</td>\n",
       "    </tr>\n",
       "    <tr>\n",
       "      <th>53</th>\n",
       "      <td>False</td>\n",
       "      <td>False</td>\n",
       "      <td>False</td>\n",
       "      <td>False</td>\n",
       "      <td>False</td>\n",
       "      <td>False</td>\n",
       "      <td>False</td>\n",
       "      <td>False</td>\n",
       "      <td>False</td>\n",
       "      <td>False</td>\n",
       "    </tr>\n",
       "    <tr>\n",
       "      <th>69</th>\n",
       "      <td>False</td>\n",
       "      <td>False</td>\n",
       "      <td>False</td>\n",
       "      <td>False</td>\n",
       "      <td>False</td>\n",
       "      <td>False</td>\n",
       "      <td>False</td>\n",
       "      <td>False</td>\n",
       "      <td>False</td>\n",
       "      <td>False</td>\n",
       "    </tr>\n",
       "    <tr>\n",
       "      <th>91</th>\n",
       "      <td>False</td>\n",
       "      <td>False</td>\n",
       "      <td>False</td>\n",
       "      <td>False</td>\n",
       "      <td>False</td>\n",
       "      <td>False</td>\n",
       "      <td>False</td>\n",
       "      <td>False</td>\n",
       "      <td>False</td>\n",
       "      <td>False</td>\n",
       "    </tr>\n",
       "    <tr>\n",
       "      <th>64</th>\n",
       "      <td>False</td>\n",
       "      <td>False</td>\n",
       "      <td>False</td>\n",
       "      <td>False</td>\n",
       "      <td>False</td>\n",
       "      <td>False</td>\n",
       "      <td>False</td>\n",
       "      <td>False</td>\n",
       "      <td>False</td>\n",
       "      <td>False</td>\n",
       "    </tr>\n",
       "    <tr>\n",
       "      <th>19</th>\n",
       "      <td>False</td>\n",
       "      <td>False</td>\n",
       "      <td>False</td>\n",
       "      <td>False</td>\n",
       "      <td>False</td>\n",
       "      <td>False</td>\n",
       "      <td>False</td>\n",
       "      <td>False</td>\n",
       "      <td>False</td>\n",
       "      <td>False</td>\n",
       "    </tr>\n",
       "  </tbody>\n",
       "</table>\n",
       "<p>5000 rows × 10 columns</p>\n",
       "</div>"
      ],
      "text/plain": [
       "       Age    BMI  Glucose  Insulin   HOMA  Leptin  Adiponectin  Resistin  \\\n",
       "37   False  False    False    False  False   False        False     False   \n",
       "107  False  False    False    False  False   False        False     False   \n",
       "12   False  False    False    False  False   False        False     False   \n",
       "72   False  False    False    False  False   False        False     False   \n",
       "9    False  False    False    False  False   False        False     False   \n",
       "..     ...    ...      ...      ...    ...     ...          ...       ...   \n",
       "53   False  False    False    False  False   False        False     False   \n",
       "69   False  False    False    False  False   False        False     False   \n",
       "91   False  False    False    False  False   False        False     False   \n",
       "64   False  False    False    False  False   False        False     False   \n",
       "19   False  False    False    False  False   False        False     False   \n",
       "\n",
       "     MCP.1  Classification  \n",
       "37   False           False  \n",
       "107  False           False  \n",
       "12   False           False  \n",
       "72   False           False  \n",
       "9    False           False  \n",
       "..     ...             ...  \n",
       "53   False           False  \n",
       "69   False           False  \n",
       "91   False           False  \n",
       "64   False           False  \n",
       "19   False           False  \n",
       "\n",
       "[5000 rows x 10 columns]"
      ]
     },
     "execution_count": 6,
     "metadata": {},
     "output_type": "execute_result"
    }
   ],
   "source": [
    "#checking missing values \n",
    "data.isnull()"
   ]
  },
  {
   "cell_type": "code",
   "execution_count": 7,
   "metadata": {},
   "outputs": [
    {
     "data": {
      "text/plain": [
       "Leptin            5000\n",
       "Adiponectin       5000\n",
       "Resistin          5000\n",
       "MCP.1             5000\n",
       "Classification    5000\n",
       "dtype: int64"
      ]
     },
     "execution_count": 7,
     "metadata": {},
     "output_type": "execute_result"
    }
   ],
   "source": [
    "#checking sum of data per column \n",
    "data.count().tail()"
   ]
  },
  {
   "cell_type": "code",
   "execution_count": 8,
   "metadata": {},
   "outputs": [
    {
     "data": {
      "text/plain": [
       "Age               0.0\n",
       "BMI               0.0\n",
       "Glucose           0.0\n",
       "Insulin           0.0\n",
       "HOMA              0.0\n",
       "Leptin            0.0\n",
       "Adiponectin       0.0\n",
       "Resistin          0.0\n",
       "MCP.1             0.0\n",
       "Classification    0.0\n",
       "dtype: float64"
      ]
     },
     "execution_count": 8,
     "metadata": {},
     "output_type": "execute_result"
    }
   ],
   "source": [
    "#checking percentage of missing data \n",
    "data_missing=data.isna()\n",
    "data_num_missing = data_missing.sum()\n",
    "data_num_missing*100/len(data)"
   ]
  },
  {
   "cell_type": "code",
   "execution_count": 9,
   "metadata": {},
   "outputs": [],
   "source": [
    "#coping data before wrangling to maintain original set incase we want to go back\n",
    "import copy\n",
    "data_1=copy.deepcopy(data)"
   ]
  },
  {
   "cell_type": "code",
   "execution_count": 10,
   "metadata": {},
   "outputs": [],
   "source": [
    "#dropping NA\n",
    "data.dropna(inplace=True)"
   ]
  },
  {
   "cell_type": "code",
   "execution_count": 11,
   "metadata": {},
   "outputs": [
    {
     "data": {
      "text/plain": [
       "(5000, 10)"
      ]
     },
     "execution_count": 11,
     "metadata": {},
     "output_type": "execute_result"
    }
   ],
   "source": [
    "#checking shape\n",
    "data.shape"
   ]
  },
  {
   "cell_type": "code",
   "execution_count": 12,
   "metadata": {},
   "outputs": [
    {
     "data": {
      "text/html": [
       "<div>\n",
       "<style scoped>\n",
       "    .dataframe tbody tr th:only-of-type {\n",
       "        vertical-align: middle;\n",
       "    }\n",
       "\n",
       "    .dataframe tbody tr th {\n",
       "        vertical-align: top;\n",
       "    }\n",
       "\n",
       "    .dataframe thead th {\n",
       "        text-align: right;\n",
       "    }\n",
       "</style>\n",
       "<table border=\"1\" class=\"dataframe\">\n",
       "  <thead>\n",
       "    <tr style=\"text-align: right;\">\n",
       "      <th></th>\n",
       "      <th>Age</th>\n",
       "      <th>BMI</th>\n",
       "      <th>Glucose</th>\n",
       "      <th>Insulin</th>\n",
       "      <th>HOMA</th>\n",
       "      <th>Leptin</th>\n",
       "      <th>Adiponectin</th>\n",
       "      <th>Resistin</th>\n",
       "      <th>MCP.1</th>\n",
       "      <th>Classification</th>\n",
       "    </tr>\n",
       "  </thead>\n",
       "  <tbody>\n",
       "    <tr>\n",
       "      <th>count</th>\n",
       "      <td>5000.000000</td>\n",
       "      <td>5000.000000</td>\n",
       "      <td>5000.000000</td>\n",
       "      <td>5000.000000</td>\n",
       "      <td>5000.000000</td>\n",
       "      <td>5000.00000</td>\n",
       "      <td>5000.000000</td>\n",
       "      <td>5000.000000</td>\n",
       "      <td>5000.000000</td>\n",
       "      <td>5000.000000</td>\n",
       "    </tr>\n",
       "    <tr>\n",
       "      <th>mean</th>\n",
       "      <td>57.269000</td>\n",
       "      <td>27.675695</td>\n",
       "      <td>98.230000</td>\n",
       "      <td>10.253753</td>\n",
       "      <td>2.799148</td>\n",
       "      <td>27.23392</td>\n",
       "      <td>10.146165</td>\n",
       "      <td>15.219034</td>\n",
       "      <td>536.596902</td>\n",
       "      <td>1.552000</td>\n",
       "    </tr>\n",
       "    <tr>\n",
       "      <th>std</th>\n",
       "      <td>15.999407</td>\n",
       "      <td>4.976360</td>\n",
       "      <td>23.216539</td>\n",
       "      <td>10.346829</td>\n",
       "      <td>3.854780</td>\n",
       "      <td>19.67296</td>\n",
       "      <td>6.741812</td>\n",
       "      <td>13.009221</td>\n",
       "      <td>345.756215</td>\n",
       "      <td>0.497338</td>\n",
       "    </tr>\n",
       "    <tr>\n",
       "      <th>min</th>\n",
       "      <td>24.000000</td>\n",
       "      <td>18.370000</td>\n",
       "      <td>60.000000</td>\n",
       "      <td>2.432000</td>\n",
       "      <td>0.467409</td>\n",
       "      <td>4.31100</td>\n",
       "      <td>1.656020</td>\n",
       "      <td>3.210000</td>\n",
       "      <td>45.843000</td>\n",
       "      <td>1.000000</td>\n",
       "    </tr>\n",
       "    <tr>\n",
       "      <th>25%</th>\n",
       "      <td>45.000000</td>\n",
       "      <td>23.010000</td>\n",
       "      <td>86.000000</td>\n",
       "      <td>4.376000</td>\n",
       "      <td>0.960273</td>\n",
       "      <td>12.33100</td>\n",
       "      <td>5.478170</td>\n",
       "      <td>6.892350</td>\n",
       "      <td>270.142000</td>\n",
       "      <td>1.000000</td>\n",
       "    </tr>\n",
       "    <tr>\n",
       "      <th>50%</th>\n",
       "      <td>55.000000</td>\n",
       "      <td>27.688778</td>\n",
       "      <td>93.000000</td>\n",
       "      <td>6.042000</td>\n",
       "      <td>1.402626</td>\n",
       "      <td>21.21170</td>\n",
       "      <td>8.300955</td>\n",
       "      <td>10.960000</td>\n",
       "      <td>468.786000</td>\n",
       "      <td>2.000000</td>\n",
       "    </tr>\n",
       "    <tr>\n",
       "      <th>75%</th>\n",
       "      <td>71.000000</td>\n",
       "      <td>31.250000</td>\n",
       "      <td>102.000000</td>\n",
       "      <td>11.910000</td>\n",
       "      <td>2.871792</td>\n",
       "      <td>38.80660</td>\n",
       "      <td>11.900000</td>\n",
       "      <td>19.463240</td>\n",
       "      <td>703.973000</td>\n",
       "      <td>2.000000</td>\n",
       "    </tr>\n",
       "    <tr>\n",
       "      <th>max</th>\n",
       "      <td>89.000000</td>\n",
       "      <td>38.578759</td>\n",
       "      <td>201.000000</td>\n",
       "      <td>58.460000</td>\n",
       "      <td>25.050342</td>\n",
       "      <td>90.28000</td>\n",
       "      <td>38.040000</td>\n",
       "      <td>82.100000</td>\n",
       "      <td>1698.440000</td>\n",
       "      <td>2.000000</td>\n",
       "    </tr>\n",
       "  </tbody>\n",
       "</table>\n",
       "</div>"
      ],
      "text/plain": [
       "               Age          BMI      Glucose      Insulin         HOMA  \\\n",
       "count  5000.000000  5000.000000  5000.000000  5000.000000  5000.000000   \n",
       "mean     57.269000    27.675695    98.230000    10.253753     2.799148   \n",
       "std      15.999407     4.976360    23.216539    10.346829     3.854780   \n",
       "min      24.000000    18.370000    60.000000     2.432000     0.467409   \n",
       "25%      45.000000    23.010000    86.000000     4.376000     0.960273   \n",
       "50%      55.000000    27.688778    93.000000     6.042000     1.402626   \n",
       "75%      71.000000    31.250000   102.000000    11.910000     2.871792   \n",
       "max      89.000000    38.578759   201.000000    58.460000    25.050342   \n",
       "\n",
       "           Leptin  Adiponectin     Resistin        MCP.1  Classification  \n",
       "count  5000.00000  5000.000000  5000.000000  5000.000000     5000.000000  \n",
       "mean     27.23392    10.146165    15.219034   536.596902        1.552000  \n",
       "std      19.67296     6.741812    13.009221   345.756215        0.497338  \n",
       "min       4.31100     1.656020     3.210000    45.843000        1.000000  \n",
       "25%      12.33100     5.478170     6.892350   270.142000        1.000000  \n",
       "50%      21.21170     8.300955    10.960000   468.786000        2.000000  \n",
       "75%      38.80660    11.900000    19.463240   703.973000        2.000000  \n",
       "max      90.28000    38.040000    82.100000  1698.440000        2.000000  "
      ]
     },
     "execution_count": 12,
     "metadata": {},
     "output_type": "execute_result"
    }
   ],
   "source": [
    "data.describe()"
   ]
  },
  {
   "cell_type": "code",
   "execution_count": 13,
   "metadata": {},
   "outputs": [
    {
     "data": {
      "text/html": [
       "<div>\n",
       "<style scoped>\n",
       "    .dataframe tbody tr th:only-of-type {\n",
       "        vertical-align: middle;\n",
       "    }\n",
       "\n",
       "    .dataframe tbody tr th {\n",
       "        vertical-align: top;\n",
       "    }\n",
       "\n",
       "    .dataframe thead th {\n",
       "        text-align: right;\n",
       "    }\n",
       "</style>\n",
       "<table border=\"1\" class=\"dataframe\">\n",
       "  <thead>\n",
       "    <tr style=\"text-align: right;\">\n",
       "      <th></th>\n",
       "      <th>Age</th>\n",
       "      <th>BMI</th>\n",
       "      <th>Glucose</th>\n",
       "      <th>Insulin</th>\n",
       "      <th>HOMA</th>\n",
       "      <th>Leptin</th>\n",
       "      <th>Adiponectin</th>\n",
       "      <th>Resistin</th>\n",
       "      <th>MCP.1</th>\n",
       "    </tr>\n",
       "    <tr>\n",
       "      <th>Classification</th>\n",
       "      <th></th>\n",
       "      <th></th>\n",
       "      <th></th>\n",
       "      <th></th>\n",
       "      <th></th>\n",
       "      <th></th>\n",
       "      <th></th>\n",
       "      <th></th>\n",
       "      <th></th>\n",
       "    </tr>\n",
       "  </thead>\n",
       "  <tbody>\n",
       "    <tr>\n",
       "      <th>1</th>\n",
       "      <td>2240</td>\n",
       "      <td>2240</td>\n",
       "      <td>2240</td>\n",
       "      <td>2240</td>\n",
       "      <td>2240</td>\n",
       "      <td>2240</td>\n",
       "      <td>2240</td>\n",
       "      <td>2240</td>\n",
       "      <td>2240</td>\n",
       "    </tr>\n",
       "    <tr>\n",
       "      <th>2</th>\n",
       "      <td>2760</td>\n",
       "      <td>2760</td>\n",
       "      <td>2760</td>\n",
       "      <td>2760</td>\n",
       "      <td>2760</td>\n",
       "      <td>2760</td>\n",
       "      <td>2760</td>\n",
       "      <td>2760</td>\n",
       "      <td>2760</td>\n",
       "    </tr>\n",
       "  </tbody>\n",
       "</table>\n",
       "</div>"
      ],
      "text/plain": [
       "                 Age   BMI  Glucose  Insulin  HOMA  Leptin  Adiponectin  \\\n",
       "Classification                                                            \n",
       "1               2240  2240     2240     2240  2240    2240         2240   \n",
       "2               2760  2760     2760     2760  2760    2760         2760   \n",
       "\n",
       "                Resistin  MCP.1  \n",
       "Classification                   \n",
       "1                   2240   2240  \n",
       "2                   2760   2760  "
      ]
     },
     "execution_count": 13,
     "metadata": {},
     "output_type": "execute_result"
    }
   ],
   "source": [
    "data.groupby(\"Classification\").count()"
   ]
  },
  {
   "cell_type": "markdown",
   "metadata": {},
   "source": [
    "Feature selection"
   ]
  },
  {
   "cell_type": "code",
   "execution_count": 14,
   "metadata": {},
   "outputs": [],
   "source": [
    "#Checking variable corrolations \n",
    "from numpy import corrcoef\n",
    "cor= data.corr()\n",
    "correlations = cor[\"Classification\"].sort_values(ascending=False)"
   ]
  },
  {
   "cell_type": "code",
   "execution_count": 15,
   "metadata": {},
   "outputs": [
    {
     "data": {
      "text/plain": [
       "Classification    1.0\n",
       "Name: Classification, dtype: float64"
      ]
     },
     "execution_count": 15,
     "metadata": {},
     "output_type": "execute_result"
    }
   ],
   "source": [
    "corr_many= correlations[correlations >0.5]\n",
    "corr_many"
   ]
  },
  {
   "cell_type": "code",
   "execution_count": 16,
   "metadata": {},
   "outputs": [
    {
     "name": "stdout",
     "output_type": "stream",
     "text": [
      "Series([], Name: Classification, dtype: float64)\n"
     ]
    }
   ],
   "source": [
    "corr_less= correlations[(correlations >0.10) & (correlations < 0.11)]\n",
    "print(corr_less)"
   ]
  },
  {
   "cell_type": "code",
   "execution_count": 17,
   "metadata": {},
   "outputs": [
    {
     "data": {
      "text/plain": [
       "<Figure size 720x720 with 0 Axes>"
      ]
     },
     "metadata": {},
     "output_type": "display_data"
    },
    {
     "data": {
      "image/png": "[encoded data removed]",
      "text/plain": [
       "<Figure size 864x576 with 2 Axes>"
      ]
     },
     "metadata": {
      "needs_background": "light"
     },
     "output_type": "display_data"
    }
   ],
   "source": [
    "\n",
    "#get correlations of each features in dataset\n",
    "corrmat = data.corr()\n",
    "top_corr_features = corrmat.index\n",
    "plt.figure(figsize=(10,10))\n",
    "f,ax= plt.subplots(figsize=(12,8))\n",
    "#plot heat map\n",
    "g=sns.heatmap(data[top_corr_features].corr(),annot=True,cmap=\"RdYlGn\")\n",
    "bottom, top = ax.get_ylim()\n",
    "ax.set_ylim(bottom + 0.5, top - 0.5)\n",
    "plt.show()"
   ]
  },
  {
   "cell_type": "code",
   "execution_count": 18,
   "metadata": {},
   "outputs": [
    {
     "data": {
      "image/png": "[encoded data removed]",
      "text/plain": [
       "<Figure size 432x288 with 2 Axes>"
      ]
     },
     "metadata": {},
     "output_type": "display_data"
    }
   ],
   "source": [
    "sns.set()\n",
    "ax = sns.heatmap(data)"
   ]
  },
  {
   "cell_type": "code",
   "execution_count": 19,
   "metadata": {},
   "outputs": [],
   "source": [
    "#the X variable will take everything expect theClassification, as x is the input and is supposed to match to the correct label\n",
    "X =data.drop(columns = [\"Classification\"])\n",
    "y = data['Classification']"
   ]
  },
  {
   "cell_type": "code",
   "execution_count": 20,
   "metadata": {},
   "outputs": [],
   "source": [
    "from sklearn.ensemble import ExtraTreesClassifier"
   ]
  },
  {
   "cell_type": "code",
   "execution_count": 21,
   "metadata": {},
   "outputs": [],
   "source": [
    "feature =X\n",
    "target=y"
   ]
  },
  {
   "cell_type": "code",
   "execution_count": 22,
   "metadata": {
    "scrolled": true
   },
   "outputs": [
    {
     "name": "stdout",
     "output_type": "stream",
     "text": [
      "[0.14935044 0.10922618 0.1513462  0.10207029 0.10755489 0.09308647\n",
      " 0.08277041 0.1289186  0.07567652]\n"
     ]
    }
   ],
   "source": [
    "model = ExtraTreesClassifier()\n",
    "model.fit(feature,target)\n",
    "print(model.feature_importances_)"
   ]
  },
  {
   "cell_type": "code",
   "execution_count": 23,
   "metadata": {},
   "outputs": [
    {
     "data": {
      "image/png": "[encoded data removed]",
      "text/plain": [
       "<Figure size 432x288 with 1 Axes>"
      ]
     },
     "metadata": {},
     "output_type": "display_data"
    }
   ],
   "source": [
    "feat_importances = pd.Series(model.feature_importances_, index=feature.columns)\n",
    "feat_importances.nlargest(10).plot(kind='barh')\n",
    "plt.title(\"top most important features the cancer dataset\")\n",
    "plt.show()"
   ]
  },
  {
   "cell_type": "code",
   "execution_count": 24,
   "metadata": {},
   "outputs": [],
   "source": [
    "from sklearn.model_selection import train_test_split\n",
    "from sklearn.ensemble import RandomForestClassifier\n",
    "from sklearn.naive_bayes import GaussianNB\n",
    "from sklearn import metrics\n",
    "from sklearn.model_selection import cross_val_score\n",
    "from sklearn.model_selection import cross_validate\n",
    "import time\n",
    "import matplotlib.pyplot as plt\n",
    "import seaborn as sns"
   ]
  },
  {
   "cell_type": "code",
   "execution_count": 25,
   "metadata": {},
   "outputs": [
    {
     "name": "stdout",
     "output_type": "stream",
     "text": [
      "Average accuracy of holdout approach:  1.0\n",
      "Mean Time taken by holdout approach:  0.2581503391265869\n",
      "-------------------\n"
     ]
    },
    {
     "data": {
      "image/png": "[encoded data removed]",
      "text/plain": [
       "<Figure size 432x288 with 1 Axes>"
      ]
     },
     "metadata": {},
     "output_type": "display_data"
    }
   ],
   "source": [
    "#Random forest using train test split\n",
    "X_train, X_test, y_train, y_test = train_test_split(X, y ,test_size=0.3,random_state=30,stratify=y)\n",
    "randomforest_split = RandomForestClassifier()\n",
    "\n",
    "time_holdout = []\n",
    "score = []\n",
    "for i in range(25):\n",
    "  #time.time() is used to calculate the time taken for the model to run\n",
    "  start_holdout = time.time()\n",
    "  #trains the random forest using cross validation\n",
    "  randomforest_split.fit(X = X_train, y = y_train)\n",
    "  score.append(randomforest_split.score(X_test, y_test))\n",
    "  \n",
    "  end_holdout = time.time()\n",
    "  time_holdout.append(end_holdout - start_holdout)\n",
    "    \n",
    "print(\"Average accuracy of holdout approach: \",np.mean(score))\n",
    "print('Mean Time taken by holdout approach: ' ,np.mean(time_holdout))\n",
    "print('-------------------')\n",
    "sns.distplot(time_holdout)\n",
    "plt.show()"
   ]
  },
  {
   "cell_type": "code",
   "execution_count": 26,
   "metadata": {
    "scrolled": false
   },
   "outputs": [
    {
     "name": "stdout",
     "output_type": "stream",
     "text": [
      "Average accuracy of cross validation approach:  1.0\n",
      "Mean Time taken by cross validation approach:  2.2264266872406004\n",
      "-------------------\n"
     ]
    },
    {
     "data": {
      "image/png": "[encoded data removed]",
      "text/plain": [
       "<Figure size 432x288 with 1 Axes>"
      ]
     },
     "metadata": {},
     "output_type": "display_data"
    }
   ],
   "source": [
    "from sklearn.metrics import average_precision_score\n",
    "randomforest = RandomForestClassifier()\n",
    "\n",
    "time_cv = []\n",
    "for i in range(25):\n",
    "  #time.time() is used to calculate the time taken for the model to run\n",
    "  start_cv = time.time()\n",
    "  #trains the random forest using cross validation\n",
    "  cv_score = cross_val_score(randomforest, X, y, cv=8)\n",
    "  end_cv = time.time()\n",
    "  time_cv.append(end_cv - start_cv)\n",
    "\n",
    "print(\"Average accuracy of cross validation approach: \",np.mean(cv_score))\n",
    "print('Mean Time taken by cross validation approach: ' ,np.mean(time_cv))\n",
    "print('-------------------')\n",
    "sns.distplot(time_cv)\n",
    "plt.show()"
   ]
  },
  {
   "cell_type": "code",
   "execution_count": 27,
   "metadata": {
    "scrolled": true
   },
   "outputs": [
    {
     "data": {
      "image/png": "[encoded data removed]",
      "text/plain": [
       "<Figure size 576x367.2 with 1 Axes>"
      ]
     },
     "metadata": {},
     "output_type": "display_data"
    }
   ],
   "source": [
    "import shap\n",
    "randomforest.fit(X = X_train, y = y_train)\n",
    "explainer = shap.TreeExplainer(randomforest)\n",
    "shap_values = explainer.shap_values(X_train)\n",
    "shap.summary_plot(shap_values, features=X_train, feature_names=X_train.columns)"
   ]
  },
  {
   "cell_type": "code",
   "execution_count": 28,
   "metadata": {},
   "outputs": [],
   "source": [
    "from sklearn.naive_bayes import GaussianNB\n",
    "from sklearn import metrics\n",
    "from sklearn.model_selection import cross_val_score\n",
    "from sklearn.model_selection import cross_validate"
   ]
  },
  {
   "cell_type": "code",
   "execution_count": 29,
   "metadata": {},
   "outputs": [
    {
     "name": "stdout",
     "output_type": "stream",
     "text": [
      "Average accuracy of holdout approach:  0.626\n",
      "Mean Time taken by holdout approach:  0.00285858154296875\n",
      "-------------------\n"
     ]
    },
    {
     "data": {
      "image/png": "[encoded data removed]",
      "text/plain": [
       "<Figure size 432x288 with 1 Axes>"
      ]
     },
     "metadata": {},
     "output_type": "display_data"
    }
   ],
   "source": [
    "#applying the Naive bayes classification model\n",
    "gnb = GaussianNB()\n",
    "time_cv = []\n",
    "score = []\n",
    "for i in range(25):\n",
    "  # calculating time taken for model to run\n",
    "  start_cv = time.time()\n",
    "  #training random forest using cross validation\n",
    "  gnb.fit(X = X_train, y = y_train)\n",
    "  score.append(gnb.score(X_test, y_test))\n",
    "  #cv_score = cross_val_score(randomforest_split, X, y, cv=8)\n",
    "  end_cv = time.time()\n",
    "  time_cv.append(end_cv - start_cv)\n",
    "    \n",
    "print(\"Average accuracy of holdout approach: \",np.mean(score))\n",
    "print('Mean Time taken by holdout approach: ' ,np.mean(time_cv))\n",
    "print('-------------------')\n",
    "sns.distplot(time_cv)\n",
    "plt.show()"
   ]
  },
  {
   "cell_type": "code",
   "execution_count": 30,
   "metadata": {},
   "outputs": [],
   "source": [
    "preds =gnb.fit(X_train,y_train).predict(X_test)"
   ]
  },
  {
   "cell_type": "code",
   "execution_count": 33,
   "metadata": {},
   "outputs": [
    {
     "name": "stdout",
     "output_type": "stream",
     "text": [
      "The accuracy of the model is 0.626\n",
      "The recall of the model  is 0.842\n",
      "The precision of the model is  is 0.554\n"
     ]
    }
   ],
   "source": [
    "from sklearn.metrics import accuracy_score\n",
    "from sklearn.metrics import recall_score\n",
    "from sklearn.metrics import precision_score\n",
    "print(\"The accuracy of the model is %.3f\" %accuracy_score(y_test, preds)) \n",
    "print(\"The recall of the model  is %.3f\" % recall_score(y_test, preds))\n",
    "print(\"The precision of the model is  is %.3f\" % precision_score(y_test, preds))"
   ]
  },
  {
   "cell_type": "code",
   "execution_count": 34,
   "metadata": {},
   "outputs": [],
   "source": [
    "from sklearn.linear_model import LogisticRegression\n",
    "from sklearn.metrics import roc_curve, auc, precision_score, accuracy_score, recall_score, roc_auc_score\n",
    "logRegr = LogisticRegression(max_iter=10000)\n",
    "logRegr.fit(X_train, y_train)\n",
    "\n",
    "#  predictions using test set\n",
    "preds = logRegr.predict(X_test)"
   ]
  },
  {
   "cell_type": "code",
   "execution_count": 35,
   "metadata": {},
   "outputs": [
    {
     "name": "stdout",
     "output_type": "stream",
     "text": [
      "The accuracy of the model is 0.777\n",
      "The recall of the model  is 0.757\n",
      "The precision of the model is  is 0.749\n"
     ]
    }
   ],
   "source": [
    "#Evaluating performance\n",
    "print(\"The accuracy of the model is %.3f\" %accuracy_score(y_test, preds)) \n",
    "print(\"The recall of the model  is %.3f\" % recall_score(y_test, preds))\n",
    "print(\"The precision of the model is  is %.3f\" % precision_score(y_test, preds))"
   ]
  },
  {
   "cell_type": "code",
   "execution_count": 36,
   "metadata": {},
   "outputs": [],
   "source": [
    "# no skill prediction probability\n",
    "probs = [0 for _ in range(len(y_test))]"
   ]
  },
  {
   "cell_type": "code",
   "execution_count": 37,
   "metadata": {},
   "outputs": [],
   "source": [
    "# probabilities for positive outcomes\n",
    "reg_probs = logRegr.predict_proba(X_test)[:, 1]"
   ]
  },
  {
   "cell_type": "code",
   "execution_count": 38,
   "metadata": {},
   "outputs": [
    {
     "name": "stdout",
     "output_type": "stream",
     "text": [
      "SVM score: 0.7533333333333333\n"
     ]
    }
   ],
   "source": [
    "#Model and Training support vector machine\n",
    "from sklearn import svm\n",
    "clf = svm.SVC()\n",
    "preds=clf.fit(X_train,y_train).predict(X_test)\n",
    "\n",
    "print(\"SVM score:\", clf.score(X_test,y_test))"
   ]
  },
  {
   "cell_type": "code",
   "execution_count": 39,
   "metadata": {},
   "outputs": [
    {
     "name": "stdout",
     "output_type": "stream",
     "text": [
      "The accuracy of the model is 0.753\n",
      "The recall of the model  is 0.860\n",
      "The precision of the model is  is 0.677\n"
     ]
    }
   ],
   "source": [
    "#Evaluating performance\n",
    "print(\"The accuracy of the model is %.3f\" %accuracy_score(y_test, preds)) \n",
    "print(\"The recall of the model  is %.3f\" % recall_score(y_test, preds))\n",
    "print(\"The precision of the model is  is %.3f\" % precision_score(y_test, preds))"
   ]
  },
  {
   "cell_type": "code",
   "execution_count": 40,
   "metadata": {},
   "outputs": [],
   "source": [
    "new_data=data.groupby(by=\"Classification\")"
   ]
  },
  {
   "cell_type": "code",
   "execution_count": 41,
   "metadata": {},
   "outputs": [],
   "source": [
    "#selecting the benign data from the entire dataset\n",
    "Benign=new_data.get_group(1)"
   ]
  },
  {
   "cell_type": "code",
   "execution_count": 42,
   "metadata": {},
   "outputs": [],
   "source": [
    "#selecting Malignant data from entire dataset\n",
    "Malignant=new_data.get_group(2)"
   ]
  },
  {
   "cell_type": "code",
   "execution_count": 43,
   "metadata": {},
   "outputs": [],
   "source": [
    "#Selecting age above 47 given that it is the average staing age of menaupause (https://www.nhs.uk/conditions/menopause/#:~:text=The%20menopause%20is%20a%20natural,a%20woman's%20oestrogen%20levels%20decline.)\n",
    "Malignant_old=Malignant[Malignant['Age'] >= 47] "
   ]
  },
  {
   "cell_type": "code",
   "execution_count": 44,
   "metadata": {},
   "outputs": [],
   "source": [
    "#Selecting age above 47 given that it is the average staing age of menaupause, see above \n",
    "Benign_old=Benign[Benign['Age'] >= 47] "
   ]
  },
  {
   "cell_type": "code",
   "execution_count": 45,
   "metadata": {},
   "outputs": [
    {
     "data": {
      "text/plain": [
       "1844"
      ]
     },
     "execution_count": 45,
     "metadata": {},
     "output_type": "execute_result"
    }
   ],
   "source": [
    "Malignant_old[\"BMI\"].count()"
   ]
  },
  {
   "cell_type": "code",
   "execution_count": 46,
   "metadata": {},
   "outputs": [],
   "source": [
    "import numpy as np\n",
    "Benign_old_BMI_array=np.array(Benign_old[\"BMI\"])"
   ]
  },
  {
   "cell_type": "code",
   "execution_count": 47,
   "metadata": {},
   "outputs": [],
   "source": [
    "Malignant_old_BMI_array=np.array(Malignant_old[\"BMI\"])"
   ]
  },
  {
   "cell_type": "code",
   "execution_count": 48,
   "metadata": {},
   "outputs": [],
   "source": [
    "import random\n",
    "random.seed(30)\n",
    "sampling_Benign_old_BMI= random.choices(Benign_old_BMI_array,k=1000)\n",
    "sampling_Malignant_old_BMI= random.choices(Malignant_old_BMI_array,k=1000)"
   ]
  },
  {
   "cell_type": "markdown",
   "metadata": {},
   "source": [
    "H0 : People with Breast cancer and over 47 years have higher BMI\n",
    "H1 : People with Breast cancer  and over 47 do not have higher BMI"
   ]
  },
  {
   "cell_type": "code",
   "execution_count": 49,
   "metadata": {},
   "outputs": [
    {
     "name": "stdout",
     "output_type": "stream",
     "text": [
      "0.1534932676616748\n",
      "accept null hypothesis\n"
     ]
    }
   ],
   "source": [
    "#perform p values \n",
    "import pandas as pd\n",
    "from scipy import stats\n",
    "ttest,pval = stats.ttest_rel(sampling_Benign_old_BMI, sampling_Malignant_old_BMI)\n",
    "print(pval)\n",
    "if pval<0.05:\n",
    "    print(\"reject null hypothesis\")\n",
    "else:\n",
    "    print(\"accept null hypothesis\")"
   ]
  },
  {
   "cell_type": "code",
   "execution_count": 50,
   "metadata": {},
   "outputs": [
    {
     "name": "stdout",
     "output_type": "stream",
     "text": [
      "malignat  BMI mean  for people over 47 years  27.847\n",
      "Benign BMI mean for people over 47 years 28.150\n"
     ]
    }
   ],
   "source": [
    "#confirming\n",
    "print(\"malignat  BMI mean  for people over 47 years % .3f\"%np.mean(sampling_Malignant_old_BMI))\n",
    "print(\"Benign BMI mean for people over 47 years %.3f\"%np.mean(sampling_Benign_old_BMI))"
   ]
  },
  {
   "cell_type": "code",
   "execution_count": 51,
   "metadata": {},
   "outputs": [],
   "source": [
    "Malignant_young=Malignant[Malignant['Age'] <= 47] \n",
    "Benign_young=Benign[Benign['Age'] <= 47] "
   ]
  },
  {
   "cell_type": "code",
   "execution_count": 52,
   "metadata": {},
   "outputs": [],
   "source": [
    "Benign_young_BMI_array=np.array(Benign_young[\"BMI\"])\n",
    "Malignant_young_BMI_array=np.array(Malignant_young[\"BMI\"])"
   ]
  },
  {
   "cell_type": "code",
   "execution_count": 53,
   "metadata": {},
   "outputs": [],
   "source": [
    "random.seed(40)\n",
    "sampling_Benign_young_BMI= random.choices(Benign_young_BMI_array,k=1000)\n",
    "sampling_Malignant_young_BMI= random.choices(Malignant_young_BMI_array,k=1000)"
   ]
  },
  {
   "cell_type": "code",
   "execution_count": 54,
   "metadata": {},
   "outputs": [
    {
     "name": "stdout",
     "output_type": "stream",
     "text": [
      "7.151996143591132e-53\n",
      "reject null hypothesis\n"
     ]
    }
   ],
   "source": [
    "ttest,pval = stats.ttest_rel(sampling_Benign_young_BMI, sampling_Malignant_young_BMI)\n",
    "print(pval)\n",
    "if pval<0.05:\n",
    "    print(\"reject null hypothesis\")\n",
    "else:\n",
    "    print(\"accept null hypothesis\")"
   ]
  },
  {
   "cell_type": "code",
   "execution_count": 55,
   "metadata": {},
   "outputs": [
    {
     "name": "stdout",
     "output_type": "stream",
     "text": [
      "malignat  BMI mean  for people under 47 years  27.847\n",
      "Benign BMI mean for people under 47 years 25.325\n"
     ]
    }
   ],
   "source": [
    "#confirming\n",
    "print(\"malignat  BMI mean  for people under 47 years % .3f\"%np.mean(sampling_Malignant_old_BMI))\n",
    "print(\"Benign BMI mean for people under 47 years %.3f\"%np.mean(sampling_Malignant_young_BMI))"
   ]
  },
  {
   "cell_type": "code",
   "execution_count": 56,
   "metadata": {},
   "outputs": [
    {
     "data": {
      "text/html": [
       "<div>\n",
       "<style scoped>\n",
       "    .dataframe tbody tr th:only-of-type {\n",
       "        vertical-align: middle;\n",
       "    }\n",
       "\n",
       "    .dataframe tbody tr th {\n",
       "        vertical-align: top;\n",
       "    }\n",
       "\n",
       "    .dataframe thead th {\n",
       "        text-align: right;\n",
       "    }\n",
       "</style>\n",
       "<table border=\"1\" class=\"dataframe\">\n",
       "  <thead>\n",
       "    <tr style=\"text-align: right;\">\n",
       "      <th></th>\n",
       "      <th>Age</th>\n",
       "      <th>BMI</th>\n",
       "      <th>Glucose</th>\n",
       "      <th>Insulin</th>\n",
       "      <th>HOMA</th>\n",
       "      <th>Leptin</th>\n",
       "      <th>Adiponectin</th>\n",
       "      <th>Resistin</th>\n",
       "      <th>MCP.1</th>\n",
       "      <th>Classification</th>\n",
       "    </tr>\n",
       "  </thead>\n",
       "  <tbody>\n",
       "    <tr>\n",
       "      <th>37</th>\n",
       "      <td>69</td>\n",
       "      <td>35.092702</td>\n",
       "      <td>101</td>\n",
       "      <td>5.646</td>\n",
       "      <td>1.406607</td>\n",
       "      <td>83.4821</td>\n",
       "      <td>6.796985</td>\n",
       "      <td>82.10000</td>\n",
       "      <td>263.499</td>\n",
       "      <td>1</td>\n",
       "    </tr>\n",
       "    <tr>\n",
       "      <th>12</th>\n",
       "      <td>25</td>\n",
       "      <td>22.860000</td>\n",
       "      <td>82</td>\n",
       "      <td>4.090</td>\n",
       "      <td>0.827271</td>\n",
       "      <td>20.4500</td>\n",
       "      <td>23.670000</td>\n",
       "      <td>5.14000</td>\n",
       "      <td>313.730</td>\n",
       "      <td>1</td>\n",
       "    </tr>\n",
       "    <tr>\n",
       "      <th>9</th>\n",
       "      <td>75</td>\n",
       "      <td>23.000000</td>\n",
       "      <td>83</td>\n",
       "      <td>4.952</td>\n",
       "      <td>1.013839</td>\n",
       "      <td>17.1270</td>\n",
       "      <td>11.578990</td>\n",
       "      <td>7.09130</td>\n",
       "      <td>318.302</td>\n",
       "      <td>1</td>\n",
       "    </tr>\n",
       "    <tr>\n",
       "      <th>5</th>\n",
       "      <td>49</td>\n",
       "      <td>22.854458</td>\n",
       "      <td>92</td>\n",
       "      <td>3.226</td>\n",
       "      <td>0.732087</td>\n",
       "      <td>6.8317</td>\n",
       "      <td>13.679750</td>\n",
       "      <td>10.31760</td>\n",
       "      <td>530.410</td>\n",
       "      <td>1</td>\n",
       "    </tr>\n",
       "    <tr>\n",
       "      <th>16</th>\n",
       "      <td>47</td>\n",
       "      <td>22.030000</td>\n",
       "      <td>84</td>\n",
       "      <td>2.869</td>\n",
       "      <td>0.590000</td>\n",
       "      <td>26.6500</td>\n",
       "      <td>38.040000</td>\n",
       "      <td>3.32000</td>\n",
       "      <td>191.720</td>\n",
       "      <td>1</td>\n",
       "    </tr>\n",
       "    <tr>\n",
       "      <th>...</th>\n",
       "      <td>...</td>\n",
       "      <td>...</td>\n",
       "      <td>...</td>\n",
       "      <td>...</td>\n",
       "      <td>...</td>\n",
       "      <td>...</td>\n",
       "      <td>...</td>\n",
       "      <td>...</td>\n",
       "      <td>...</td>\n",
       "      <td>...</td>\n",
       "    </tr>\n",
       "    <tr>\n",
       "      <th>19</th>\n",
       "      <td>32</td>\n",
       "      <td>36.512637</td>\n",
       "      <td>87</td>\n",
       "      <td>14.026</td>\n",
       "      <td>3.009980</td>\n",
       "      <td>49.3727</td>\n",
       "      <td>5.100000</td>\n",
       "      <td>17.10223</td>\n",
       "      <td>588.460</td>\n",
       "      <td>1</td>\n",
       "    </tr>\n",
       "    <tr>\n",
       "      <th>33</th>\n",
       "      <td>43</td>\n",
       "      <td>34.422174</td>\n",
       "      <td>89</td>\n",
       "      <td>23.194</td>\n",
       "      <td>5.091856</td>\n",
       "      <td>31.2128</td>\n",
       "      <td>8.300955</td>\n",
       "      <td>6.71026</td>\n",
       "      <td>960.246</td>\n",
       "      <td>1</td>\n",
       "    </tr>\n",
       "    <tr>\n",
       "      <th>29</th>\n",
       "      <td>36</td>\n",
       "      <td>34.174890</td>\n",
       "      <td>80</td>\n",
       "      <td>6.590</td>\n",
       "      <td>1.300427</td>\n",
       "      <td>10.2809</td>\n",
       "      <td>5.065915</td>\n",
       "      <td>15.72187</td>\n",
       "      <td>581.313</td>\n",
       "      <td>1</td>\n",
       "    </tr>\n",
       "    <tr>\n",
       "      <th>38</th>\n",
       "      <td>60</td>\n",
       "      <td>26.349292</td>\n",
       "      <td>103</td>\n",
       "      <td>5.138</td>\n",
       "      <td>1.305395</td>\n",
       "      <td>24.2998</td>\n",
       "      <td>2.194280</td>\n",
       "      <td>20.25350</td>\n",
       "      <td>378.996</td>\n",
       "      <td>1</td>\n",
       "    </tr>\n",
       "    <tr>\n",
       "      <th>19</th>\n",
       "      <td>32</td>\n",
       "      <td>36.512637</td>\n",
       "      <td>87</td>\n",
       "      <td>14.026</td>\n",
       "      <td>3.009980</td>\n",
       "      <td>49.3727</td>\n",
       "      <td>5.100000</td>\n",
       "      <td>17.10223</td>\n",
       "      <td>588.460</td>\n",
       "      <td>1</td>\n",
       "    </tr>\n",
       "  </tbody>\n",
       "</table>\n",
       "<p>2240 rows × 10 columns</p>\n",
       "</div>"
      ],
      "text/plain": [
       "    Age        BMI  Glucose  Insulin      HOMA   Leptin  Adiponectin  \\\n",
       "37   69  35.092702      101    5.646  1.406607  83.4821     6.796985   \n",
       "12   25  22.860000       82    4.090  0.827271  20.4500    23.670000   \n",
       "9    75  23.000000       83    4.952  1.013839  17.1270    11.578990   \n",
       "5    49  22.854458       92    3.226  0.732087   6.8317    13.679750   \n",
       "16   47  22.030000       84    2.869  0.590000  26.6500    38.040000   \n",
       "..  ...        ...      ...      ...       ...      ...          ...   \n",
       "19   32  36.512637       87   14.026  3.009980  49.3727     5.100000   \n",
       "33   43  34.422174       89   23.194  5.091856  31.2128     8.300955   \n",
       "29   36  34.174890       80    6.590  1.300427  10.2809     5.065915   \n",
       "38   60  26.349292      103    5.138  1.305395  24.2998     2.194280   \n",
       "19   32  36.512637       87   14.026  3.009980  49.3727     5.100000   \n",
       "\n",
       "    Resistin    MCP.1  Classification  \n",
       "37  82.10000  263.499               1  \n",
       "12   5.14000  313.730               1  \n",
       "9    7.09130  318.302               1  \n",
       "5   10.31760  530.410               1  \n",
       "16   3.32000  191.720               1  \n",
       "..       ...      ...             ...  \n",
       "19  17.10223  588.460               1  \n",
       "33   6.71026  960.246               1  \n",
       "29  15.72187  581.313               1  \n",
       "38  20.25350  378.996               1  \n",
       "19  17.10223  588.460               1  \n",
       "\n",
       "[2240 rows x 10 columns]"
      ]
     },
     "execution_count": 56,
     "metadata": {},
     "output_type": "execute_result"
    }
   ],
   "source": [
    "Benign"
   ]
  },
  {
   "cell_type": "code",
   "execution_count": 57,
   "metadata": {},
   "outputs": [],
   "source": [
    "Malignant_normal_glucose=Malignant[Malignant[\"Glucose\"] <= 100] \n",
    "Benign_normal_glucose=Benign[Benign['Glucose'] <= 100] "
   ]
  },
  {
   "cell_type": "code",
   "execution_count": 58,
   "metadata": {},
   "outputs": [],
   "source": [
    "Malignant_normal_glucose_array=np.array(Malignant_normal_glucose[\"Glucose\"])\n",
    "Benign_normal_glucose_array=np.array(Benign_normal_glucose[\"Glucose\"])"
   ]
  },
  {
   "cell_type": "code",
   "execution_count": 59,
   "metadata": {},
   "outputs": [],
   "source": [
    "random.seed(30)\n",
    "sampling_Malignant_normal_glucose= random.choices(Malignant_normal_glucose_array,k=1000)\n",
    "sampling_Benign_normal_glucose= random.choices(Benign_normal_glucose_array,k=1000)"
   ]
  },
  {
   "cell_type": "markdown",
   "metadata": {},
   "source": [
    "H0 : People with Breast cancer and below 47 years have higher glucose milligrams per deciliter\n",
    "H1 : People with Breast cancer  and over 47 do not have higher glucose milligrams per deciliter"
   ]
  },
  {
   "cell_type": "code",
   "execution_count": 70,
   "metadata": {},
   "outputs": [],
   "source": [
    "Benign_young_Glucose_array=np.array(Benign_young[\"Glucose\"])\n",
    "Malignant_young_Glucose_array=np.array(Malignant_young[\"Glucose\"])"
   ]
  },
  {
   "cell_type": "code",
   "execution_count": 73,
   "metadata": {},
   "outputs": [],
   "source": [
    "random.seed(30)\n",
    "sampling_Malignant_young_glucose= random.choices(Malignant_young_Glucose_array,k=1000)\n",
    "sampling_Benign_young_glucose= random.choices(Benign_young_Glucose_array,k=1000)"
   ]
  },
  {
   "cell_type": "code",
   "execution_count": 74,
   "metadata": {},
   "outputs": [
    {
     "name": "stdout",
     "output_type": "stream",
     "text": [
      "1.922472168824921e-190\n",
      "reject null hypothesis\n"
     ]
    }
   ],
   "source": [
    "ttest,pval = stats.ttest_rel(sampling_Benign_young_glucose,sampling_Malignant_young_glucose)\n",
    "print(pval)\n",
    "if pval<0.05:\n",
    "    print(\"reject null hypothesis\")\n",
    "else:\n",
    "    print(\"accept null hypothesis\")"
   ]
  },
  {
   "cell_type": "code",
   "execution_count": 75,
   "metadata": {},
   "outputs": [
    {
     "name": "stdout",
     "output_type": "stream",
     "text": [
      "malignat  Glucose  mean   97.752\n",
      "Benign Glucose  mean s 84.275\n"
     ]
    }
   ],
   "source": [
    "#confirming\n",
    "print(\"malignat  Glucose  mean  % .3f\"%np.mean(sampling_Malignant_young_glucose))\n",
    "print(\"Benign Glucose  mean s %.3f\"%np.mean(sampling_Benign_young_glucose))"
   ]
  },
  {
   "cell_type": "code",
   "execution_count": 76,
   "metadata": {},
   "outputs": [],
   "source": [
    "Benign_old_Glucose_array=np.array(Benign_old[\"Glucose\"])\n",
    "Malignant_old_Glucose_array=np.array(Malignant_old[\"Glucose\"])"
   ]
  },
  {
   "cell_type": "code",
   "execution_count": 77,
   "metadata": {},
   "outputs": [],
   "source": [
    "random.seed(30)\n",
    "sampling_Malignant_old_glucose= random.choices(Malignant_old_Glucose_array,k=1000)\n",
    "sampling_Benign_old_glucose= random.choices(Benign_old_Glucose_array,k=1000)"
   ]
  },
  {
   "cell_type": "code",
   "execution_count": 78,
   "metadata": {},
   "outputs": [
    {
     "name": "stdout",
     "output_type": "stream",
     "text": [
      "6.391949884047346e-68\n",
      "reject null hypothesis\n"
     ]
    }
   ],
   "source": [
    "ttest,pval = stats.ttest_rel(sampling_Malignant_old_glucose,sampling_Benign_old_glucose)\n",
    "print(pval)\n",
    "if pval<0.05:\n",
    "    print(\"reject null hypothesis\")\n",
    "else:\n",
    "    print(\"accept null hypothesis\")"
   ]
  },
  {
   "cell_type": "code",
   "execution_count": null,
   "metadata": {},
   "outputs": [],
   "source": []
  }
 ],
 "metadata": {
  "kernelspec": {
   "display_name": "Python 3",
   "language": "python",
   "name": "python3"
  },
  "language_info": {
   "codemirror_mode": {
    "name": "ipython",
    "version": 3
   },
   "file_extension": ".py",
   "mimetype": "text/x-python",
   "name": "python",
   "nbconvert_exporter": "python",
   "pygments_lexer": "ipython3",
   "version": "3.7.6"
  }
 },
 "nbformat": 4,
 "nbformat_minor": 2
}
