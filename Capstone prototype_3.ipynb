{
 "cells": [
  {
   "cell_type": "code",
   "execution_count": 1,
   "metadata": {},
   "outputs": [],
   "source": [
    "#Loading packages\n",
    "import csv\n",
    "import pandas as pd\n",
    "import matplotlib.pyplot as plt\n",
    "import numpy as np\n",
    "from sklearn.metrics import mean_squared_error, r2_score \n",
    "import datetime as dt\n",
    "from scipy import stats as sts\n",
    "from sklearn.neighbors import KNeighborsClassifier\n",
    "from sklearn.model_selection import train_test_split\n",
    "from datetime import datetime as dt\n",
    "import math\n",
    "import seaborn as sns\n"
   ]
  },
  {
   "cell_type": "code",
   "execution_count": 2,
   "metadata": {},
   "outputs": [],
   "source": [
    "#loading accepted da\n",
    "data=pd.read_csv(\"https://docs.google.com/spreadsheets/d/e/2PACX-1vSLMCETGXVHEisEi-Gk0aEgghySGaK-c127tgfCOc-hzjetTp__XSjZxaU_eMsV0RziuLVXZ6ebLYwy/pub?output=csv\",low_memory=False)"
   ]
  },
  {
   "cell_type": "code",
   "execution_count": 3,
   "metadata": {},
   "outputs": [
    {
     "data": {
      "text/html": [
       "<div>\n",
       "<style scoped>\n",
       "    .dataframe tbody tr th:only-of-type {\n",
       "        vertical-align: middle;\n",
       "    }\n",
       "\n",
       "    .dataframe tbody tr th {\n",
       "        vertical-align: top;\n",
       "    }\n",
       "\n",
       "    .dataframe thead th {\n",
       "        text-align: right;\n",
       "    }\n",
       "</style>\n",
       "<table border=\"1\" class=\"dataframe\">\n",
       "  <thead>\n",
       "    <tr style=\"text-align: right;\">\n",
       "      <th></th>\n",
       "      <th>Unnamed: 0</th>\n",
       "      <th>Age</th>\n",
       "      <th>BMI</th>\n",
       "      <th>Glucose</th>\n",
       "      <th>Insulin</th>\n",
       "      <th>HOMA</th>\n",
       "      <th>Leptin</th>\n",
       "      <th>Adiponectin</th>\n",
       "      <th>Resistin</th>\n",
       "      <th>MCP.1</th>\n",
       "      <th>Classification</th>\n",
       "    </tr>\n",
       "  </thead>\n",
       "  <tbody>\n",
       "    <tr>\n",
       "      <th>0</th>\n",
       "      <td>37</td>\n",
       "      <td>69</td>\n",
       "      <td>35.092702</td>\n",
       "      <td>101</td>\n",
       "      <td>5.646</td>\n",
       "      <td>1.406607</td>\n",
       "      <td>83.4821</td>\n",
       "      <td>6.796985</td>\n",
       "      <td>82.1000</td>\n",
       "      <td>263.499</td>\n",
       "      <td>1</td>\n",
       "    </tr>\n",
       "    <tr>\n",
       "      <th>1</th>\n",
       "      <td>107</td>\n",
       "      <td>46</td>\n",
       "      <td>33.180000</td>\n",
       "      <td>92</td>\n",
       "      <td>5.750</td>\n",
       "      <td>1.304867</td>\n",
       "      <td>18.6900</td>\n",
       "      <td>9.160000</td>\n",
       "      <td>8.8900</td>\n",
       "      <td>209.190</td>\n",
       "      <td>2</td>\n",
       "    </tr>\n",
       "    <tr>\n",
       "      <th>2</th>\n",
       "      <td>12</td>\n",
       "      <td>25</td>\n",
       "      <td>22.860000</td>\n",
       "      <td>82</td>\n",
       "      <td>4.090</td>\n",
       "      <td>0.827271</td>\n",
       "      <td>20.4500</td>\n",
       "      <td>23.670000</td>\n",
       "      <td>5.1400</td>\n",
       "      <td>313.730</td>\n",
       "      <td>1</td>\n",
       "    </tr>\n",
       "    <tr>\n",
       "      <th>3</th>\n",
       "      <td>72</td>\n",
       "      <td>51</td>\n",
       "      <td>18.370000</td>\n",
       "      <td>105</td>\n",
       "      <td>6.030</td>\n",
       "      <td>1.561770</td>\n",
       "      <td>9.6200</td>\n",
       "      <td>12.760000</td>\n",
       "      <td>3.2100</td>\n",
       "      <td>513.660</td>\n",
       "      <td>2</td>\n",
       "    </tr>\n",
       "    <tr>\n",
       "      <th>4</th>\n",
       "      <td>9</td>\n",
       "      <td>75</td>\n",
       "      <td>23.000000</td>\n",
       "      <td>83</td>\n",
       "      <td>4.952</td>\n",
       "      <td>1.013839</td>\n",
       "      <td>17.1270</td>\n",
       "      <td>11.578990</td>\n",
       "      <td>7.0913</td>\n",
       "      <td>318.302</td>\n",
       "      <td>1</td>\n",
       "    </tr>\n",
       "  </tbody>\n",
       "</table>\n",
       "</div>"
      ],
      "text/plain": [
       "   Unnamed: 0  Age        BMI  Glucose  Insulin      HOMA   Leptin  \\\n",
       "0          37   69  35.092702      101    5.646  1.406607  83.4821   \n",
       "1         107   46  33.180000       92    5.750  1.304867  18.6900   \n",
       "2          12   25  22.860000       82    4.090  0.827271  20.4500   \n",
       "3          72   51  18.370000      105    6.030  1.561770   9.6200   \n",
       "4           9   75  23.000000       83    4.952  1.013839  17.1270   \n",
       "\n",
       "   Adiponectin  Resistin    MCP.1  Classification  \n",
       "0     6.796985   82.1000  263.499               1  \n",
       "1     9.160000    8.8900  209.190               2  \n",
       "2    23.670000    5.1400  313.730               1  \n",
       "3    12.760000    3.2100  513.660               2  \n",
       "4    11.578990    7.0913  318.302               1  "
      ]
     },
     "execution_count": 3,
     "metadata": {},
     "output_type": "execute_result"
    }
   ],
   "source": [
    "#checking first few columns of accpted Malignant\n",
    "data.head(5).head(5)"
   ]
  },
  {
   "cell_type": "code",
   "execution_count": 4,
   "metadata": {},
   "outputs": [
    {
     "name": "stdout",
     "output_type": "stream",
     "text": [
      "<class 'pandas.core.frame.DataFrame'>\n",
      "RangeIndex: 5000 entries, 0 to 4999\n",
      "Data columns (total 11 columns):\n",
      "Unnamed: 0        5000 non-null int64\n",
      "Age               5000 non-null int64\n",
      "BMI               5000 non-null float64\n",
      "Glucose           5000 non-null int64\n",
      "Insulin           5000 non-null float64\n",
      "HOMA              5000 non-null float64\n",
      "Leptin            5000 non-null float64\n",
      "Adiponectin       5000 non-null float64\n",
      "Resistin          5000 non-null float64\n",
      "MCP.1             5000 non-null float64\n",
      "Classification    5000 non-null int64\n",
      "dtypes: float64(7), int64(4)\n",
      "memory usage: 429.8 KB\n"
     ]
    },
    {
     "data": {
      "text/plain": [
       "None"
      ]
     },
     "metadata": {},
     "output_type": "display_data"
    },
    {
     "name": "stdout",
     "output_type": "stream",
     "text": [
      "<class 'pandas.core.frame.DataFrame'>\n",
      "RangeIndex: 5000 entries, 0 to 4999\n",
      "Data columns (total 11 columns):\n",
      "Unnamed: 0        5000 non-null int64\n",
      "Age               5000 non-null int64\n",
      "BMI               5000 non-null float64\n",
      "Glucose           5000 non-null int64\n",
      "Insulin           5000 non-null float64\n",
      "HOMA              5000 non-null float64\n",
      "Leptin            5000 non-null float64\n",
      "Adiponectin       5000 non-null float64\n",
      "Resistin          5000 non-null float64\n",
      "MCP.1             5000 non-null float64\n",
      "Classification    5000 non-null int64\n",
      "dtypes: float64(7), int64(4)\n",
      "memory usage: 429.8 KB\n"
     ]
    },
    {
     "data": {
      "text/plain": [
       "None"
      ]
     },
     "metadata": {},
     "output_type": "display_data"
    }
   ],
   "source": [
    "#checking column names\n",
    "from IPython.display import display_html\n",
    "display(data.info())\n",
    "display(data.info())"
   ]
  },
  {
   "cell_type": "code",
   "execution_count": 5,
   "metadata": {},
   "outputs": [
    {
     "data": {
      "text/html": [
       "<div>\n",
       "<style scoped>\n",
       "    .dataframe tbody tr th:only-of-type {\n",
       "        vertical-align: middle;\n",
       "    }\n",
       "\n",
       "    .dataframe tbody tr th {\n",
       "        vertical-align: top;\n",
       "    }\n",
       "\n",
       "    .dataframe thead th {\n",
       "        text-align: right;\n",
       "    }\n",
       "</style>\n",
       "<table border=\"1\" class=\"dataframe\">\n",
       "  <thead>\n",
       "    <tr style=\"text-align: right;\">\n",
       "      <th></th>\n",
       "      <th>Unnamed: 0</th>\n",
       "      <th>Age</th>\n",
       "      <th>BMI</th>\n",
       "      <th>Glucose</th>\n",
       "      <th>Insulin</th>\n",
       "      <th>HOMA</th>\n",
       "      <th>Leptin</th>\n",
       "      <th>Adiponectin</th>\n",
       "      <th>Resistin</th>\n",
       "      <th>MCP.1</th>\n",
       "      <th>Classification</th>\n",
       "    </tr>\n",
       "  </thead>\n",
       "  <tbody>\n",
       "    <tr>\n",
       "      <th>0</th>\n",
       "      <td>False</td>\n",
       "      <td>False</td>\n",
       "      <td>False</td>\n",
       "      <td>False</td>\n",
       "      <td>False</td>\n",
       "      <td>False</td>\n",
       "      <td>False</td>\n",
       "      <td>False</td>\n",
       "      <td>False</td>\n",
       "      <td>False</td>\n",
       "      <td>False</td>\n",
       "    </tr>\n",
       "    <tr>\n",
       "      <th>1</th>\n",
       "      <td>False</td>\n",
       "      <td>False</td>\n",
       "      <td>False</td>\n",
       "      <td>False</td>\n",
       "      <td>False</td>\n",
       "      <td>False</td>\n",
       "      <td>False</td>\n",
       "      <td>False</td>\n",
       "      <td>False</td>\n",
       "      <td>False</td>\n",
       "      <td>False</td>\n",
       "    </tr>\n",
       "    <tr>\n",
       "      <th>2</th>\n",
       "      <td>False</td>\n",
       "      <td>False</td>\n",
       "      <td>False</td>\n",
       "      <td>False</td>\n",
       "      <td>False</td>\n",
       "      <td>False</td>\n",
       "      <td>False</td>\n",
       "      <td>False</td>\n",
       "      <td>False</td>\n",
       "      <td>False</td>\n",
       "      <td>False</td>\n",
       "    </tr>\n",
       "    <tr>\n",
       "      <th>3</th>\n",
       "      <td>False</td>\n",
       "      <td>False</td>\n",
       "      <td>False</td>\n",
       "      <td>False</td>\n",
       "      <td>False</td>\n",
       "      <td>False</td>\n",
       "      <td>False</td>\n",
       "      <td>False</td>\n",
       "      <td>False</td>\n",
       "      <td>False</td>\n",
       "      <td>False</td>\n",
       "    </tr>\n",
       "    <tr>\n",
       "      <th>4</th>\n",
       "      <td>False</td>\n",
       "      <td>False</td>\n",
       "      <td>False</td>\n",
       "      <td>False</td>\n",
       "      <td>False</td>\n",
       "      <td>False</td>\n",
       "      <td>False</td>\n",
       "      <td>False</td>\n",
       "      <td>False</td>\n",
       "      <td>False</td>\n",
       "      <td>False</td>\n",
       "    </tr>\n",
       "    <tr>\n",
       "      <th>...</th>\n",
       "      <td>...</td>\n",
       "      <td>...</td>\n",
       "      <td>...</td>\n",
       "      <td>...</td>\n",
       "      <td>...</td>\n",
       "      <td>...</td>\n",
       "      <td>...</td>\n",
       "      <td>...</td>\n",
       "      <td>...</td>\n",
       "      <td>...</td>\n",
       "      <td>...</td>\n",
       "    </tr>\n",
       "    <tr>\n",
       "      <th>4995</th>\n",
       "      <td>False</td>\n",
       "      <td>False</td>\n",
       "      <td>False</td>\n",
       "      <td>False</td>\n",
       "      <td>False</td>\n",
       "      <td>False</td>\n",
       "      <td>False</td>\n",
       "      <td>False</td>\n",
       "      <td>False</td>\n",
       "      <td>False</td>\n",
       "      <td>False</td>\n",
       "    </tr>\n",
       "    <tr>\n",
       "      <th>4996</th>\n",
       "      <td>False</td>\n",
       "      <td>False</td>\n",
       "      <td>False</td>\n",
       "      <td>False</td>\n",
       "      <td>False</td>\n",
       "      <td>False</td>\n",
       "      <td>False</td>\n",
       "      <td>False</td>\n",
       "      <td>False</td>\n",
       "      <td>False</td>\n",
       "      <td>False</td>\n",
       "    </tr>\n",
       "    <tr>\n",
       "      <th>4997</th>\n",
       "      <td>False</td>\n",
       "      <td>False</td>\n",
       "      <td>False</td>\n",
       "      <td>False</td>\n",
       "      <td>False</td>\n",
       "      <td>False</td>\n",
       "      <td>False</td>\n",
       "      <td>False</td>\n",
       "      <td>False</td>\n",
       "      <td>False</td>\n",
       "      <td>False</td>\n",
       "    </tr>\n",
       "    <tr>\n",
       "      <th>4998</th>\n",
       "      <td>False</td>\n",
       "      <td>False</td>\n",
       "      <td>False</td>\n",
       "      <td>False</td>\n",
       "      <td>False</td>\n",
       "      <td>False</td>\n",
       "      <td>False</td>\n",
       "      <td>False</td>\n",
       "      <td>False</td>\n",
       "      <td>False</td>\n",
       "      <td>False</td>\n",
       "    </tr>\n",
       "    <tr>\n",
       "      <th>4999</th>\n",
       "      <td>False</td>\n",
       "      <td>False</td>\n",
       "      <td>False</td>\n",
       "      <td>False</td>\n",
       "      <td>False</td>\n",
       "      <td>False</td>\n",
       "      <td>False</td>\n",
       "      <td>False</td>\n",
       "      <td>False</td>\n",
       "      <td>False</td>\n",
       "      <td>False</td>\n",
       "    </tr>\n",
       "  </tbody>\n",
       "</table>\n",
       "<p>5000 rows × 11 columns</p>\n",
       "</div>"
      ],
      "text/plain": [
       "      Unnamed: 0    Age    BMI  Glucose  Insulin   HOMA  Leptin  Adiponectin  \\\n",
       "0          False  False  False    False    False  False   False        False   \n",
       "1          False  False  False    False    False  False   False        False   \n",
       "2          False  False  False    False    False  False   False        False   \n",
       "3          False  False  False    False    False  False   False        False   \n",
       "4          False  False  False    False    False  False   False        False   \n",
       "...          ...    ...    ...      ...      ...    ...     ...          ...   \n",
       "4995       False  False  False    False    False  False   False        False   \n",
       "4996       False  False  False    False    False  False   False        False   \n",
       "4997       False  False  False    False    False  False   False        False   \n",
       "4998       False  False  False    False    False  False   False        False   \n",
       "4999       False  False  False    False    False  False   False        False   \n",
       "\n",
       "      Resistin  MCP.1  Classification  \n",
       "0        False  False           False  \n",
       "1        False  False           False  \n",
       "2        False  False           False  \n",
       "3        False  False           False  \n",
       "4        False  False           False  \n",
       "...        ...    ...             ...  \n",
       "4995     False  False           False  \n",
       "4996     False  False           False  \n",
       "4997     False  False           False  \n",
       "4998     False  False           False  \n",
       "4999     False  False           False  \n",
       "\n",
       "[5000 rows x 11 columns]"
      ]
     },
     "execution_count": 5,
     "metadata": {},
     "output_type": "execute_result"
    }
   ],
   "source": [
    "#checking missing values \n",
    "data.isnull()"
   ]
  },
  {
   "cell_type": "code",
   "execution_count": 6,
   "metadata": {},
   "outputs": [
    {
     "data": {
      "text/plain": [
       "Leptin            5000\n",
       "Adiponectin       5000\n",
       "Resistin          5000\n",
       "MCP.1             5000\n",
       "Classification    5000\n",
       "dtype: int64"
      ]
     },
     "execution_count": 6,
     "metadata": {},
     "output_type": "execute_result"
    }
   ],
   "source": [
    "#checking sum of data per column \n",
    "data.count().tail()"
   ]
  },
  {
   "cell_type": "code",
   "execution_count": 7,
   "metadata": {},
   "outputs": [
    {
     "data": {
      "text/plain": [
       "Unnamed: 0        0.0\n",
       "Age               0.0\n",
       "BMI               0.0\n",
       "Glucose           0.0\n",
       "Insulin           0.0\n",
       "HOMA              0.0\n",
       "Leptin            0.0\n",
       "Adiponectin       0.0\n",
       "Resistin          0.0\n",
       "MCP.1             0.0\n",
       "Classification    0.0\n",
       "dtype: float64"
      ]
     },
     "execution_count": 7,
     "metadata": {},
     "output_type": "execute_result"
    }
   ],
   "source": [
    "#checking percentage of missing data \n",
    "data_missing=data.isna()\n",
    "data_num_missing = data_missing.sum()\n",
    "data_num_missing*100/len(data)"
   ]
  },
  {
   "cell_type": "code",
   "execution_count": 8,
   "metadata": {},
   "outputs": [],
   "source": [
    "#coping data before wrangling to maintain original set incase we want to go back\n",
    "import copy\n",
    "data_1=copy.deepcopy(data)"
   ]
  },
  {
   "cell_type": "code",
   "execution_count": 9,
   "metadata": {},
   "outputs": [],
   "source": [
    "#dropping NA\n",
    "data.dropna(inplace=True)"
   ]
  },
  {
   "cell_type": "code",
   "execution_count": 10,
   "metadata": {},
   "outputs": [
    {
     "data": {
      "text/plain": [
       "(5000, 11)"
      ]
     },
     "execution_count": 10,
     "metadata": {},
     "output_type": "execute_result"
    }
   ],
   "source": [
    "#checking shape\n",
    "data.shape"
   ]
  },
  {
   "cell_type": "code",
   "execution_count": 11,
   "metadata": {},
   "outputs": [
    {
     "data": {
      "text/html": [
       "<div>\n",
       "<style scoped>\n",
       "    .dataframe tbody tr th:only-of-type {\n",
       "        vertical-align: middle;\n",
       "    }\n",
       "\n",
       "    .dataframe tbody tr th {\n",
       "        vertical-align: top;\n",
       "    }\n",
       "\n",
       "    .dataframe thead th {\n",
       "        text-align: right;\n",
       "    }\n",
       "</style>\n",
       "<table border=\"1\" class=\"dataframe\">\n",
       "  <thead>\n",
       "    <tr style=\"text-align: right;\">\n",
       "      <th></th>\n",
       "      <th>Unnamed: 0</th>\n",
       "      <th>Age</th>\n",
       "      <th>BMI</th>\n",
       "      <th>Glucose</th>\n",
       "      <th>Insulin</th>\n",
       "      <th>HOMA</th>\n",
       "      <th>Leptin</th>\n",
       "      <th>Adiponectin</th>\n",
       "      <th>Resistin</th>\n",
       "      <th>MCP.1</th>\n",
       "      <th>Classification</th>\n",
       "    </tr>\n",
       "  </thead>\n",
       "  <tbody>\n",
       "    <tr>\n",
       "      <th>count</th>\n",
       "      <td>5000.000000</td>\n",
       "      <td>5000.000000</td>\n",
       "      <td>5000.000000</td>\n",
       "      <td>5000.000000</td>\n",
       "      <td>5000.000000</td>\n",
       "      <td>5000.000000</td>\n",
       "      <td>5000.00000</td>\n",
       "      <td>5000.000000</td>\n",
       "      <td>5000.000000</td>\n",
       "      <td>5000.000000</td>\n",
       "      <td>5000.000000</td>\n",
       "    </tr>\n",
       "    <tr>\n",
       "      <th>mean</th>\n",
       "      <td>57.553400</td>\n",
       "      <td>57.269000</td>\n",
       "      <td>27.675695</td>\n",
       "      <td>98.230000</td>\n",
       "      <td>10.253753</td>\n",
       "      <td>2.799148</td>\n",
       "      <td>27.23392</td>\n",
       "      <td>10.146165</td>\n",
       "      <td>15.219034</td>\n",
       "      <td>536.596902</td>\n",
       "      <td>1.552000</td>\n",
       "    </tr>\n",
       "    <tr>\n",
       "      <th>std</th>\n",
       "      <td>33.142125</td>\n",
       "      <td>15.999407</td>\n",
       "      <td>4.976360</td>\n",
       "      <td>23.216539</td>\n",
       "      <td>10.346829</td>\n",
       "      <td>3.854780</td>\n",
       "      <td>19.67296</td>\n",
       "      <td>6.741812</td>\n",
       "      <td>13.009221</td>\n",
       "      <td>345.756215</td>\n",
       "      <td>0.497338</td>\n",
       "    </tr>\n",
       "    <tr>\n",
       "      <th>min</th>\n",
       "      <td>0.000000</td>\n",
       "      <td>24.000000</td>\n",
       "      <td>18.370000</td>\n",
       "      <td>60.000000</td>\n",
       "      <td>2.432000</td>\n",
       "      <td>0.467409</td>\n",
       "      <td>4.31100</td>\n",
       "      <td>1.656020</td>\n",
       "      <td>3.210000</td>\n",
       "      <td>45.843000</td>\n",
       "      <td>1.000000</td>\n",
       "    </tr>\n",
       "    <tr>\n",
       "      <th>25%</th>\n",
       "      <td>29.000000</td>\n",
       "      <td>45.000000</td>\n",
       "      <td>23.010000</td>\n",
       "      <td>86.000000</td>\n",
       "      <td>4.376000</td>\n",
       "      <td>0.960273</td>\n",
       "      <td>12.33100</td>\n",
       "      <td>5.478170</td>\n",
       "      <td>6.892350</td>\n",
       "      <td>270.142000</td>\n",
       "      <td>1.000000</td>\n",
       "    </tr>\n",
       "    <tr>\n",
       "      <th>50%</th>\n",
       "      <td>57.000000</td>\n",
       "      <td>55.000000</td>\n",
       "      <td>27.688778</td>\n",
       "      <td>93.000000</td>\n",
       "      <td>6.042000</td>\n",
       "      <td>1.402626</td>\n",
       "      <td>21.21170</td>\n",
       "      <td>8.300955</td>\n",
       "      <td>10.960000</td>\n",
       "      <td>468.786000</td>\n",
       "      <td>2.000000</td>\n",
       "    </tr>\n",
       "    <tr>\n",
       "      <th>75%</th>\n",
       "      <td>86.000000</td>\n",
       "      <td>71.000000</td>\n",
       "      <td>31.250000</td>\n",
       "      <td>102.000000</td>\n",
       "      <td>11.910000</td>\n",
       "      <td>2.871792</td>\n",
       "      <td>38.80660</td>\n",
       "      <td>11.900000</td>\n",
       "      <td>19.463240</td>\n",
       "      <td>703.973000</td>\n",
       "      <td>2.000000</td>\n",
       "    </tr>\n",
       "    <tr>\n",
       "      <th>max</th>\n",
       "      <td>115.000000</td>\n",
       "      <td>89.000000</td>\n",
       "      <td>38.578759</td>\n",
       "      <td>201.000000</td>\n",
       "      <td>58.460000</td>\n",
       "      <td>25.050342</td>\n",
       "      <td>90.28000</td>\n",
       "      <td>38.040000</td>\n",
       "      <td>82.100000</td>\n",
       "      <td>1698.440000</td>\n",
       "      <td>2.000000</td>\n",
       "    </tr>\n",
       "  </tbody>\n",
       "</table>\n",
       "</div>"
      ],
      "text/plain": [
       "        Unnamed: 0          Age          BMI      Glucose      Insulin  \\\n",
       "count  5000.000000  5000.000000  5000.000000  5000.000000  5000.000000   \n",
       "mean     57.553400    57.269000    27.675695    98.230000    10.253753   \n",
       "std      33.142125    15.999407     4.976360    23.216539    10.346829   \n",
       "min       0.000000    24.000000    18.370000    60.000000     2.432000   \n",
       "25%      29.000000    45.000000    23.010000    86.000000     4.376000   \n",
       "50%      57.000000    55.000000    27.688778    93.000000     6.042000   \n",
       "75%      86.000000    71.000000    31.250000   102.000000    11.910000   \n",
       "max     115.000000    89.000000    38.578759   201.000000    58.460000   \n",
       "\n",
       "              HOMA      Leptin  Adiponectin     Resistin        MCP.1  \\\n",
       "count  5000.000000  5000.00000  5000.000000  5000.000000  5000.000000   \n",
       "mean      2.799148    27.23392    10.146165    15.219034   536.596902   \n",
       "std       3.854780    19.67296     6.741812    13.009221   345.756215   \n",
       "min       0.467409     4.31100     1.656020     3.210000    45.843000   \n",
       "25%       0.960273    12.33100     5.478170     6.892350   270.142000   \n",
       "50%       1.402626    21.21170     8.300955    10.960000   468.786000   \n",
       "75%       2.871792    38.80660    11.900000    19.463240   703.973000   \n",
       "max      25.050342    90.28000    38.040000    82.100000  1698.440000   \n",
       "\n",
       "       Classification  \n",
       "count     5000.000000  \n",
       "mean         1.552000  \n",
       "std          0.497338  \n",
       "min          1.000000  \n",
       "25%          1.000000  \n",
       "50%          2.000000  \n",
       "75%          2.000000  \n",
       "max          2.000000  "
      ]
     },
     "execution_count": 11,
     "metadata": {},
     "output_type": "execute_result"
    }
   ],
   "source": [
    "data.describe()"
   ]
  },
  {
   "cell_type": "code",
   "execution_count": 12,
   "metadata": {},
   "outputs": [],
   "source": [
    "# scikit-learn bootstrap\n",
    "from sklearn.utils import resample"
   ]
  },
  {
   "cell_type": "code",
   "execution_count": 13,
   "metadata": {},
   "outputs": [],
   "source": [
    "boot_data = resample(data, replace=True, n_samples=5000, random_state=1)"
   ]
  },
  {
   "cell_type": "code",
   "execution_count": 14,
   "metadata": {
    "scrolled": true
   },
   "outputs": [
    {
     "name": "stdout",
     "output_type": "stream",
     "text": [
      "<class 'pandas.core.frame.DataFrame'>\n",
      "Int64Index: 5000 entries, 235 to 3853\n",
      "Data columns (total 11 columns):\n",
      "Unnamed: 0        5000 non-null int64\n",
      "Age               5000 non-null int64\n",
      "BMI               5000 non-null float64\n",
      "Glucose           5000 non-null int64\n",
      "Insulin           5000 non-null float64\n",
      "HOMA              5000 non-null float64\n",
      "Leptin            5000 non-null float64\n",
      "Adiponectin       5000 non-null float64\n",
      "Resistin          5000 non-null float64\n",
      "MCP.1             5000 non-null float64\n",
      "Classification    5000 non-null int64\n",
      "dtypes: float64(7), int64(4)\n",
      "memory usage: 468.8 KB\n"
     ]
    }
   ],
   "source": [
    "boot_data.info()"
   ]
  },
  {
   "cell_type": "code",
   "execution_count": 15,
   "metadata": {},
   "outputs": [
    {
     "data": {
      "image/png": "[encoded data removed]",
      "text/plain": [
       "<Figure size 432x288 with 2 Axes>"
      ]
     },
     "metadata": {},
     "output_type": "display_data"
    }
   ],
   "source": [
    "sns.set()\n",
    "ax = sns.heatmap(data)"
   ]
  },
  {
   "cell_type": "code",
   "execution_count": 16,
   "metadata": {},
   "outputs": [],
   "source": [
    "#the X variable will take everything expect theClassification, as x is the input and is supposed to match to the correct label\n",
    "X =boot_data.drop(columns = [\"Classification\"])\n",
    "y = boot_data['Classification']"
   ]
  },
  {
   "cell_type": "code",
   "execution_count": 17,
   "metadata": {},
   "outputs": [],
   "source": [
    "from sklearn.model_selection import train_test_split\n",
    "from sklearn.ensemble import RandomForestClassifier\n",
    "from sklearn.naive_bayes import GaussianNB\n",
    "from sklearn import metrics\n",
    "from sklearn.model_selection import cross_val_score\n",
    "from sklearn.model_selection import cross_validate\n",
    "import time\n",
    "import matplotlib.pyplot as plt\n",
    "import seaborn as sns"
   ]
  },
  {
   "cell_type": "code",
   "execution_count": 18,
   "metadata": {},
   "outputs": [
    {
     "name": "stdout",
     "output_type": "stream",
     "text": [
      "Average accuracy of holdout approach:  1.0\n",
      "Mean Time taken by holdout approach:  0.20421533584594725\n",
      "-------------------\n"
     ]
    },
    {
     "data": {
      "image/png": "[encoded data removed]",
      "text/plain": [
       "<Figure size 432x288 with 1 Axes>"
      ]
     },
     "metadata": {},
     "output_type": "display_data"
    }
   ],
   "source": [
    "#Random forest using train test split\n",
    "X_train, X_test, y_train, y_test = train_test_split(X, y ,test_size=0.3,random_state=30,stratify=y)\n",
    "randomforest_split = RandomForestClassifier()\n",
    "\n",
    "time_holdout = []\n",
    "score = []\n",
    "for i in range(25):\n",
    "  #time.time() is used to calculate the time taken for the model to run\n",
    "  start_holdout = time.time()\n",
    "  #trains the random forest using cross validation\n",
    "  randomforest_split.fit(X = X_train, y = y_train)\n",
    "  score.append(randomforest_split.score(X_test, y_test))\n",
    "  \n",
    "  end_holdout = time.time()\n",
    "  time_holdout.append(end_holdout - start_holdout)\n",
    "    \n",
    "print(\"Average accuracy of holdout approach: \",np.mean(score))\n",
    "print('Mean Time taken by holdout approach: ' ,np.mean(time_holdout))\n",
    "print('-------------------')\n",
    "sns.distplot(time_holdout)\n",
    "plt.show()"
   ]
  },
  {
   "cell_type": "code",
   "execution_count": 19,
   "metadata": {
    "scrolled": false
   },
   "outputs": [
    {
     "name": "stdout",
     "output_type": "stream",
     "text": [
      "Average accuracy of cross validation approach:  1.0\n",
      "Mean Time taken by cross validation approach:  1.7583982753753662\n",
      "-------------------\n"
     ]
    },
    {
     "data": {
      "image/png": "[encoded data removed]",
      "text/plain": [
       "<Figure size 432x288 with 1 Axes>"
      ]
     },
     "metadata": {},
     "output_type": "display_data"
    }
   ],
   "source": [
    "randomforest = RandomForestClassifier()\n",
    "\n",
    "time_cv = []\n",
    "for i in range(25):\n",
    "  #time.time() is used to calculate the time taken for the model to run\n",
    "  start_cv = time.time()\n",
    "  #trains the random forest using cross validation\n",
    "  cv_score = cross_val_score(randomforest, X, y, cv=8)\n",
    "  end_cv = time.time()\n",
    "  time_cv.append(end_cv - start_cv)\n",
    "\n",
    "print(\"Average accuracy of cross validation approach: \",np.mean(cv_score))\n",
    "print('Mean Time taken by cross validation approach: ' ,np.mean(time_cv))\n",
    "print('-------------------')\n",
    "sns.distplot(time_cv)\n",
    "plt.show()"
   ]
  },
  {
   "cell_type": "code",
   "execution_count": 20,
   "metadata": {},
   "outputs": [],
   "source": [
    "from sklearn.naive_bayes import GaussianNB\n",
    "from sklearn import metrics\n",
    "from sklearn.model_selection import cross_val_score\n",
    "from sklearn.model_selection import cross_validate"
   ]
  },
  {
   "cell_type": "code",
   "execution_count": 21,
   "metadata": {},
   "outputs": [
    {
     "name": "stdout",
     "output_type": "stream",
     "text": [
      "Average accuracy of holdout approach:  0.9179999999999999\n",
      "Mean Time taken by holdout approach:  0.0034375762939453124\n",
      "-------------------\n"
     ]
    },
    {
     "data": {
      "image/png": "[encoded data removed]",
      "text/plain": [
       "<Figure size 432x288 with 1 Axes>"
      ]
     },
     "metadata": {},
     "output_type": "display_data"
    }
   ],
   "source": [
    "#applying the Naive bayes classification model\n",
    "gnb = GaussianNB()\n",
    "time_cv = []\n",
    "score = []\n",
    "for i in range(25):\n",
    "  # calculating time taken for model to run\n",
    "  start_cv = time.time()\n",
    "  #training random forest using cross validation\n",
    "  gnb.fit(X = X_train, y = y_train)\n",
    "  score.append(gnb.score(X_test, y_test))\n",
    "  #cv_score = cross_val_score(randomforest_split, X, y, cv=8)\n",
    "  end_cv = time.time()\n",
    "  time_cv.append(end_cv - start_cv)\n",
    "    \n",
    "print(\"Average accuracy of holdout approach: \",np.mean(score))\n",
    "print('Mean Time taken by holdout approach: ' ,np.mean(time_cv))\n",
    "print('-------------------')\n",
    "sns.distplot(time_cv)\n",
    "plt.show()"
   ]
  },
  {
   "cell_type": "code",
   "execution_count": 22,
   "metadata": {},
   "outputs": [],
   "source": [
    "from sklearn.linear_model import LogisticRegression\n",
    "from sklearn.metrics import roc_curve, auc, precision_score, accuracy_score, recall_score, roc_auc_score\n",
    "logRegr = LogisticRegression(max_iter=10000)\n",
    "logRegr.fit(X_train, y_train)\n",
    "\n",
    "#  predictions using test set\n",
    "preds = logRegr.predict(X_test)"
   ]
  },
  {
   "cell_type": "code",
   "execution_count": 23,
   "metadata": {},
   "outputs": [
    {
     "name": "stdout",
     "output_type": "stream",
     "text": [
      "The accuracy of the model is 1.000\n",
      "The recall of the model  is 1.000\n",
      "The precision of the model is  is 1.000\n"
     ]
    }
   ],
   "source": [
    "#Evaluating performance\n",
    "print(\"The accuracy of the model is %.3f\" %accuracy_score(y_test, preds)) \n",
    "print(\"The recall of the model  is %.3f\" % recall_score(y_test, preds))\n",
    "print(\"The precision of the model is  is %.3f\" % precision_score(y_test, preds))"
   ]
  },
  {
   "cell_type": "code",
   "execution_count": 24,
   "metadata": {},
   "outputs": [],
   "source": [
    "# no skill prediction probability\n",
    "probs = [0 for _ in range(len(y_test))]"
   ]
  },
  {
   "cell_type": "code",
   "execution_count": 25,
   "metadata": {},
   "outputs": [],
   "source": [
    "# probabilities for positive outcomes\n",
    "reg_probs = logRegr.predict_proba(X_test)[:, 1]"
   ]
  },
  {
   "cell_type": "code",
   "execution_count": null,
   "metadata": {},
   "outputs": [],
   "source": []
  }
 ],
 "metadata": {
  "kernelspec": {
   "display_name": "Python 3",
   "language": "python",
   "name": "python3"
  },
  "language_info": {
   "codemirror_mode": {
    "name": "ipython",
    "version": 3
   },
   "file_extension": ".py",
   "mimetype": "text/x-python",
   "name": "python",
   "nbconvert_exporter": "python",
   "pygments_lexer": "ipython3",
   "version": "3.7.6"
  }
 },
 "nbformat": 4,
 "nbformat_minor": 2
}
